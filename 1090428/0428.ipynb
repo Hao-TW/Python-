{
 "cells": [
  {
   "cell_type": "code",
   "execution_count": null,
   "metadata": {},
   "outputs": [],
   "source": [
    "scrapy startproject\n",
    "scrapy.cfg     基礎設置\n",
    "items.py       抓取項目的結構定義\n",
    "middlewares.py 定義自己的中介軟體\n",
    "pipline.py     管道用於抓取數據後的處理\n",
    "settings.py    負責過整個爬蟲的配置\n",
    "spider/  .py   爬蟲主體,定義如何抓取數據\n",
    "\n",
    "\n",
    "Scrapy資料流程\n",
    "\n",
    "1.獲得初始請求\n",
    "2.開始請求調度程式\n",
    "3.調度器傳回請求\n",
    "4.要求傳送到下載器,通過中介軟體進行\n",
    "5.下載完成就會回傳結果\n",
    "6.透過中介軟體處理傳回的items"
   ]
  }
 ],
 "metadata": {
  "kernelspec": {
   "display_name": "Python 3",
   "language": "python",
   "name": "python3"
  },
  "language_info": {
   "codemirror_mode": {
    "name": "ipython",
    "version": 3
   },
   "file_extension": ".py",
   "mimetype": "text/x-python",
   "name": "python",
   "nbconvert_exporter": "python",
   "pygments_lexer": "ipython3",
   "version": "3.7.7"
  }
 },
 "nbformat": 4,
 "nbformat_minor": 4
}
