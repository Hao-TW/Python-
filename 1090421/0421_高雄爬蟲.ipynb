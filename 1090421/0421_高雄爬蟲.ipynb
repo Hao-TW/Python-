{
 "cells": [
  {
   "cell_type": "code",
   "execution_count": 4,
   "metadata": {},
   "outputs": [],
   "source": [
    "# 五. 鍵盤操作\n",
    "# 在webdriver的Keys類中提供了鍵盤所有的按鍵操作，當然也包括一些常見的組合鍵操作如Ctrl+A(全選)、Ctrl+C(複製)、Ctrl+V(貼上)。\n",
    "\n",
    "# send_keys(Keys.ENTER) 按下回車鍵\n",
    "# send_keys(Keys.TAB) 按下Tab製表鍵\n",
    "# send_keys(Keys.SPACE) 按下空格鍵space\n",
    "# send_keys(Kyes.ESCAPE) 按下回退鍵Esc\n",
    "# send_keys(Keys.BACK_SPACE) 按下刪除鍵BackSpace\n",
    "# send_keys(Keys.SHIFT) 按下shift鍵\n",
    "# send_keys(Keys.CONTROL) 按下Ctrl鍵\n",
    "# send_keys(Keys.ARROW_DOWN) 按下滑鼠游標向下按鍵\n",
    "# send_keys(Keys.CONTROL,'a') 組合鍵全選Ctrl+A\n",
    "# send_keys(Keys.CONTROL,'c') 組合鍵複製Ctrl+C\n",
    "# send_keys(Keys.CONTROL,'x') 組合鍵剪下Ctrl+X\n",
    "# send_keys(Keys.CONTROL,'v') 組合鍵貼上Ctrl+V\n",
    "\n",
    "import time\n",
    "from selenium import webdriver\n",
    "from selenium.webdriver.common.keys import Keys\n",
    "\n",
    "driver = webdriver.Chrome('/Users/ASUS/chromedriver')\n",
    "driver.get(\"http://www.baidu.com\")\n",
    "\n",
    "#輸入框輸入內容\n",
    "elem = driver.find_element_by_id(\"kw\")\n",
    "elem.send_keys(\"Eastmount CSDN\")\n",
    "time.sleep(3)\n",
    "\n",
    "#刪除一個字元CSDN 回退鍵\n",
    "elem.send_keys(Keys.BACK_SPACE)\n",
    "elem.send_keys(Keys.BACK_SPACE)\n",
    "elem.send_keys(Keys.BACK_SPACE)\n",
    "elem.send_keys(Keys.BACK_SPACE)\n",
    "time.sleep(3)\n",
    "\n",
    "#輸入空格+\"部落格\"\n",
    "elem.send_keys(Keys.SPACE)\n",
    "elem.send_keys(u\"部落格\")\n",
    "time.sleep(3)\n",
    "\n",
    "#ctrl+a 全選輸入框內容\n",
    "elem.send_keys(Keys.CONTROL,'a')\n",
    "time.sleep(3)\n",
    "\n",
    "#ctrl+x 剪下輸入框內容\n",
    "elem.send_keys(Keys.CONTROL,'x')\n",
    "time.sleep(3)\n",
    "\n",
    "#輸入框重新輸入搜尋\n",
    "elem.send_keys(Keys.CONTROL,'v')\n",
    "time.sleep(3)\n",
    "\n",
    "#通過回車鍵替代點選操作\n",
    "driver.find_element_by_id(\"su\").send_keys(Keys.ENTER)\n",
    "time.sleep(3)\n",
    "\n",
    "driver.quit()"
   ]
  },
  {
   "cell_type": "code",
   "execution_count": 15,
   "metadata": {},
   "outputs": [],
   "source": [
    "import time\n",
    "from selenium import webdriver\n",
    "from selenium.webdriver.common.keys import Keys\n",
    "\n",
    "driver = webdriver.Chrome('/Users/ASUS/chromedriver')\n",
    "driver.get(\"https://www.google.com.tw/\")\n",
    "\n",
    "#輸入框輸入內容\n",
    "elem = driver.find_element_by_name(\"q\")\n",
    "elem.send_keys(\"聯成電腦\")\n",
    "time.sleep(3)\n",
    "\n",
    "#輸入空格+\"部落格\"\n",
    "elem.send_keys(Keys.SPACE)\n",
    "elem.send_keys(u\"JAVA\")\n",
    "time.sleep(3)\n",
    "\n",
    "#刪除一個字元CSDN 回退鍵\n",
    "elem.send_keys(Keys.BACK_SPACE)\n",
    "elem.send_keys(Keys.BACK_SPACE)\n",
    "elem.send_keys(Keys.BACK_SPACE)\n",
    "elem.send_keys(Keys.BACK_SPACE)\n",
    "elem.send_keys(Keys.BACK_SPACE)\n",
    "elem.send_keys(Keys.BACK_SPACE)\n",
    "elem.send_keys(Keys.BACK_SPACE)\n",
    "elem.send_keys(Keys.BACK_SPACE)\n",
    "elem.send_keys(Keys.BACK_SPACE)\n",
    "time.sleep(3)\n",
    "\n",
    "#輸入框輸入內容\n",
    "elem = driver.find_element_by_name(\"q\")\n",
    "elem.send_keys(\"Python 聯成電腦\")\n",
    "time.sleep(3)\n",
    "\n",
    "#ctrl+a 全選輸入框內容\n",
    "elem.send_keys(Keys.CONTROL,'a')\n",
    "time.sleep(3)\n",
    "\n",
    "#ctrl+x 剪下輸入框內容\n",
    "elem.send_keys(Keys.CONTROL,'x')\n",
    "time.sleep(3)\n",
    "\n",
    "#輸入框重新輸入搜尋\n",
    "elem.send_keys(Keys.CONTROL,'v')\n",
    "time.sleep(3)\n",
    "\n",
    "#刪除一個字元CSDN 回退鍵\n",
    "elem.send_keys(Keys.BACK_SPACE)\n",
    "elem.send_keys(Keys.BACK_SPACE)\n",
    "elem.send_keys(Keys.BACK_SPACE)\n",
    "elem.send_keys(Keys.BACK_SPACE)\n",
    "time.sleep(3)\n",
    "\n",
    "#通過回車鍵替代點選操作\n",
    "elem.send_keys(Keys.ENTER)\n",
    "time.sleep(3)\n",
    "\n",
    "driver.quit()"
   ]
  },
  {
   "cell_type": "code",
   "execution_count": 31,
   "metadata": {},
   "outputs": [
    {
     "data": {
      "text/plain": [
       "['good']"
      ]
     },
     "execution_count": 31,
     "metadata": {},
     "output_type": "execute_result"
    }
   ],
   "source": [
    "from scrapy.selector import Selector\n",
    "from scrapy.http import HtmlResponse\n",
    "\n",
    "#以文字構造：\n",
    "body = '<html><body><span>good</span></body></html>'\n",
    "Selector(text=body).xpath('//span/text()').extract()\n"
   ]
  },
  {
   "cell_type": "code",
   "execution_count": 40,
   "metadata": {},
   "outputs": [
    {
     "data": {
      "text/plain": [
       "[<Selector xpath='//title/text()' data='123'>]"
      ]
     },
     "execution_count": 40,
     "metadata": {},
     "output_type": "execute_result"
    }
   ],
   "source": [
    "body = '''<html>\n",
    "       <title>123</title>\n",
    "       <body>\n",
    "            <h1>Hello World</h1>\n",
    "            <h1>Hello Scrapy</h1>\n",
    "            <b>Hello python</b>\n",
    "            <ul>\n",
    "            <li>C++</li>\n",
    "            <li>Java</li>\n",
    "             <li>Python</li>\n",
    "            </ul>\n",
    "            </body>\n",
    "          </html> '''\n",
    "response = HtmlResponse(url='http://www.example.com', body=body,encoding = 'utf-8')\n",
    "selector = Selector(response=response)\n",
    "response.selector.xpath('//title/text()')"
   ]
  },
  {
   "cell_type": "code",
   "execution_count": 28,
   "metadata": {},
   "outputs": [
    {
     "name": "stdout",
     "output_type": "stream",
     "text": [
      "Hello World\n",
      "Hello Scrapy\n"
     ]
    }
   ],
   "source": [
    "selector_list = Selector(response=response).xpath('//h1/text()').extract()\n",
    "for sel in selector_list:\n",
    "    print(sel)"
   ]
  },
  {
   "cell_type": "code",
   "execution_count": 32,
   "metadata": {},
   "outputs": [
    {
     "name": "stdout",
     "output_type": "stream",
     "text": [
      "[<Selector xpath='./text()' data='Hello World'>]\n",
      "[<Selector xpath='./text()' data='Hello Scrapy'>]\n"
     ]
    }
   ],
   "source": [
    "#第二種做法\n",
    "# 迭代访问其中的每一个Selector对象\n",
    "selector_list = selector.xpath('//h1')\n",
    "for sel in selector_list:\n",
    "    print(sel.xpath('./text()'))"
   ]
  },
  {
   "cell_type": "code",
   "execution_count": 33,
   "metadata": {},
   "outputs": [
    {
     "name": "stdout",
     "output_type": "stream",
     "text": [
      "[<Selector xpath='.//b/text()' data='Hello python'>]\n",
      "\n",
      "['Hello python']\n",
      "\n",
      "Hello python\n"
     ]
    }
   ],
   "source": [
    "#extract() and extract_first()\n",
    "sl = selector.xpath('.//b/text()')\n",
    "print(sl)\n",
    "print()\n",
    "print(sl.extract())\n",
    "print()\n",
    "print(sl.extract_first())"
   ]
  },
  {
   "cell_type": "code",
   "execution_count": 41,
   "metadata": {},
   "outputs": [
    {
     "name": "stdout",
     "output_type": "stream",
     "text": [
      "[<Selector xpath='.//li/b/text()' data='价格: 99.00 元'>, <Selector xpath='.//li/b/text()' data='价格: 88.00 元'>, <Selector xpath='.//li/b/text()' data='价格: 80.00 元'>]\n",
      "\n",
      "['价格: 99.00 元', '价格: 88.00 元', '价格: 80.00 元']\n",
      "\n",
      "价格: 99.00 元\n",
      "\n",
      "['99.00', '88.00', '80.00']\n",
      "\n",
      "99.00\n"
     ]
    }
   ],
   "source": [
    "#有些时候，我们想使用正则表达式提取选中内容中的某部分，可以使用re方法（两个对象都有该方法）：\n",
    "text = '''\n",
    "    <ul>\n",
    "    <li>Python 学习手册 <b>价格: 99.00 元</b></li>\n",
    "    <li>Python 核心编程 <b>价格: 88.00 元</b></li>\n",
    "     <li>Python 基础教程 <b>价格: 80.00 元</b></li>\n",
    "    </ul>'''\n",
    "selector = Selector(text=text)\n",
    "print(selector.xpath('.//li/b/text()'))\n",
    "print()\n",
    "print(selector.xpath('.//li/b/text()').extract())\n",
    "print()\n",
    "print(selector.xpath('.//li/b/text()').extract_first())\n",
    "print()\n",
    "print(selector.xpath('.//li/b/text()').re('\\d+\\.\\d+')) #只提取价格的数字部分\n",
    "print()\n",
    "      \n",
    "#SelectorList对象的re_first方法同样返回其中的第一个Selector对象调用re方法的结果:\n",
    "print(selector.xpath('.//li/b/text()').re_first('\\d+\\.\\d+'))"
   ]
  },
  {
   "cell_type": "code",
   "execution_count": 43,
   "metadata": {},
   "outputs": [
    {
     "name": "stdout",
     "output_type": "stream",
     "text": [
      "Name: Image 1 \n",
      "\n",
      "    \n",
      "Name: Image 2 \n",
      "\n",
      "    \n",
      "Name: Image 3 \n",
      "\n",
      "    \n",
      "Name: Image 4 \n",
      "\n",
      "    \n",
      "Name: Image 5 \n",
      " \n"
     ]
    }
   ],
   "source": [
    "from scrapy.selector import Selector\n",
    "from scrapy.http import HtmlResponse\n",
    "text = '''\n",
    "    <html>\n",
    "    <head>\n",
    "    <base href='http://example.com/' />\n",
    "     <title>Example website</title>\n",
    "    </head>\n",
    "    <body>\n",
    "    <div id='images'>\n",
    "    <a href='image1.html'>Name: Image 1 <br/><img src='image1.jpg'>\n",
    "    <a href='image2.html'>Name: Image 2 <br/><img src='image2.jpg'>\n",
    "    <a href='image3.html'>Name: Image 3 <br/><img src='image3.jpg'>\n",
    "    <a href='image4.html'>Name: Image 4 <br/><img src='image4.jpg'>\n",
    "    <a href='image5.html'>Name: Image 5 <br/><img src='image5.jpg'> </div>\n",
    "    </body>\n",
    "    </html>'''\n",
    "selector = Selector(text=text)\n",
    "sel = selector.xpath('//a/text()').extract()\n",
    "for s in sel:\n",
    "    print(s)"
   ]
  },
  {
   "cell_type": "code",
   "execution_count": 44,
   "metadata": {},
   "outputs": [
    {
     "name": "stdout",
     "output_type": "stream",
     "text": [
      "Name: Image 1 \n",
      "\n",
      "    \n",
      "Name: Image 2 \n",
      "\n",
      "    \n",
      "Name: Image 3 \n",
      "\n",
      "    \n",
      "Name: Image 4 \n",
      "\n",
      "    \n",
      "Name: Image 5 \n",
      " \n"
     ]
    }
   ],
   "source": [
    "from scrapy.selector import Selector\n",
    "from scrapy.http import HtmlResponse\n",
    "body = '''\n",
    "    <html>\n",
    "    <head>\n",
    "    <base href='http://example.com/' />\n",
    "     <title>Example website</title>\n",
    "    </head>\n",
    "    <body>\n",
    "    <div id='images'>\n",
    "    <a href='image1.html'>Name: Image 1 <br/><img src='image1.jpg'>\n",
    "    <a href='image2.html'>Name: Image 2 <br/><img src='image2.jpg'>\n",
    "    <a href='image3.html'>Name: Image 3 <br/><img src='image3.jpg'>\n",
    "    <a href='image4.html'>Name: Image 4 <br/><img src='image4.jpg'>\n",
    "    <a href='image5.html'>Name: Image 5 <br/><img src='image5.jpg'> </div>\n",
    "    </body>\n",
    "    </html>'''\n",
    "response = HtmlResponse(url='http://www.example.com', body=body, encoding='utf-8')\n",
    "sel = response.xpath('//a/text()').extract()\n",
    "for s in sel:\n",
    "    print(s)"
   ]
  },
  {
   "cell_type": "code",
   "execution_count": null,
   "metadata": {},
   "outputs": [],
   "source": []
  }
 ],
 "metadata": {
  "kernelspec": {
   "display_name": "Python 3",
   "language": "python",
   "name": "python3"
  },
  "language_info": {
   "codemirror_mode": {
    "name": "ipython",
    "version": 3
   },
   "file_extension": ".py",
   "mimetype": "text/x-python",
   "name": "python",
   "nbconvert_exporter": "python",
   "pygments_lexer": "ipython3",
   "version": "3.7.6"
  }
 },
 "nbformat": 4,
 "nbformat_minor": 4
}
