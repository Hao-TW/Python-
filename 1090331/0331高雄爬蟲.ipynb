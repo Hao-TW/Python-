{
 "cells": [
  {
   "cell_type": "code",
   "execution_count": 1,
   "metadata": {},
   "outputs": [
    {
     "name": "stdout",
     "output_type": "stream",
     "text": [
      "name 台灣積體電路製造TPE: 2330\n",
      "current_price 已收盤: 3月31日 下午1:30 [GMT+8] · \n",
      "current_change 免責聲明\n",
      "開盤 273.00\n",
      "最高 274.00\n",
      "最低 269.50\n",
      "殖利率 3.47%\n",
      "上次收盤價 267.50\n",
      "52 週高點 346.00\n"
     ]
    }
   ],
   "source": [
    "import requests\n",
    "from bs4 import BeautifulSoup\n",
    "\n",
    "\n",
    "# 網址後方加上 MARKET:STOCK_ID 即為個股資訊. e.g, TPE:2330\n",
    "G_FINANCE_URL = 'https://www.google.com/search?q='\n",
    "\n",
    "\n",
    "def get_web_page(url, stock_id):\n",
    "    ##浏览器请求头（大部分网站没有这个请求头会报错、请务必加上哦）\n",
    "    headers = {'User-Agent': 'Mozilla/5.0 (Windows NT 10.0; Win64; x64) '\n",
    "                             'AppleWebKit/537.36 (KHTML, like Gecko) '\n",
    "                             'Chrome/66.0.3359.181 Safari/537.36'}\n",
    "    resp = requests.get(url + stock_id, headers=headers)\n",
    "    if resp.status_code != 200:\n",
    "        print('Invalid url:', resp.url)\n",
    "        return None\n",
    "    else:\n",
    "        return resp.text\n",
    "\n",
    "\n",
    "def get_stock_info(dom):\n",
    "    soup = BeautifulSoup(dom, 'html.parser')\n",
    "    stock = dict()\n",
    "\n",
    "    sections = soup.find_all('g-card-section')\n",
    "    \n",
    "    # 第 2 個 g-card-section, 取出公司名及即時股價資訊\n",
    "    stock['name'] = sections[1].div.text\n",
    "    # recursive=False不使用遞迴搜尋，僅尋找次一層的子節點\n",
    "    spans = sections[1].find_all('div', recursive=False)[1].find_all('span', recursive=False)\n",
    "    stock['current_price'] = spans[0].text\n",
    "    stock['current_change'] = spans[1].text\n",
    "\n",
    "    # 第 4 個 g-card-section, 有左右兩個 table 分別存放股票資訊\n",
    "    for table in sections[3].find_all('table'):\n",
    "        for tr in table.find_all('tr')[:3]:\n",
    "            key = tr.find_all('td')[0].text.lower().strip()\n",
    "            value = tr.find_all('td')[1].text.strip()\n",
    "            stock[key] = value\n",
    "\n",
    "    return stock\n",
    "\n",
    "\n",
    "if __name__ == '__main__':\n",
    "    page = get_web_page(G_FINANCE_URL, 'TPE:2330')\n",
    "    if page:\n",
    "        stock = get_stock_info(page)\n",
    "        for k, v in stock.items():\n",
    "            print(k, v)"
   ]
  },
  {
   "cell_type": "code",
   "execution_count": 9,
   "metadata": {},
   "outputs": [
    {
     "name": "stdout",
     "output_type": "stream",
     "text": [
      "最後更新時間: 2020-03-31 20:20 \n",
      "柴油預計調整:\n",
      "-1.1元\n",
      "下週一2020年04月06日起,預計汽油每公升:\n",
      "降0.9元\n",
      "今日中油油價\n",
      "\n",
      "\n",
      "92:\n",
      "18.2\n",
      "\n",
      "95油價:\n",
      "19.7\n",
      "\n",
      "98:\n",
      "21.7\n",
      "\n",
      "柴油:\n",
      "15.4\n",
      "\n",
      "\n"
     ]
    },
    {
     "name": "stderr",
     "output_type": "stream",
     "text": [
      "C:\\ProgramData\\Anaconda3\\envs\\work\\lib\\site-packages\\urllib3\\connectionpool.py:1004: InsecureRequestWarning: Unverified HTTPS request is being made to host 'gas.goodlife.tw'. Adding certificate verification is strongly advised. See: https://urllib3.readthedocs.io/en/latest/advanced-usage.html#ssl-warnings\n",
      "  InsecureRequestWarning,\n"
     ]
    }
   ],
   "source": [
    "import requests\n",
    "import re\n",
    "import random\n",
    "from bs4 import BeautifulSoup\n",
    "target_url = 'https://gas.goodlife.tw/'\n",
    "rs = requests.session()\n",
    "res = rs.get(target_url, verify=False)\n",
    "res.encoding = 'utf-8'\n",
    "soup = BeautifulSoup(res.text, 'html.parser')\n",
    "title = soup.select('#main')[0].text.replace('\\n', '').split('(')[0]\n",
    "gas_price = soup.select('#gas-price')[0].text.replace('\\n\\n\\n', '').replace(' ', '')\n",
    "cpc = soup.select('#cpc')[0].text.replace(' ', '')\n",
    "content = '{}\\n{}{}'.format(title, gas_price, cpc)\n",
    "print(content)"
   ]
  },
  {
   "cell_type": "code",
   "execution_count": 11,
   "metadata": {},
   "outputs": [
    {
     "name": "stdout",
     "output_type": "stream",
     "text": [
      "Start parsing pttHot....\n"
     ]
    },
    {
     "name": "stderr",
     "output_type": "stream",
     "text": [
      "C:\\ProgramData\\Anaconda3\\envs\\work\\lib\\site-packages\\urllib3\\connectionpool.py:1004: InsecureRequestWarning: Unverified HTTPS request is being made to host 'disp.cc'. Adding certificate verification is strongly advised. See: https://urllib3.readthedocs.io/en/latest/advanced-usage.html#ssl-warnings\n",
      "  InsecureRequestWarning,\n"
     ]
    },
    {
     "name": "stdout",
     "output_type": "stream",
     "text": [
      "■ [新聞] 博恩「我從國小到高中都被強X！」　重訓健身背後藏瘡疤：\n",
      "http://disp.cc/b/796-cdVP\n",
      "\n",
      "■ [政治] 川普兒子發明「責任輪盤」?\n",
      "http://disp.cc/b/796-cdVS\n",
      "\n",
      "■ [新聞] 中國真的零確診？「黃安躲在台灣」打臉中共\n",
      "http://disp.cc/b/796-cdVX\n",
      "\n",
      "■ Re: [影音] 博恩被強姦的故事\n",
      "http://disp.cc/b/796-cdWf\n",
      "\n",
      "■ [問卦] 網咖櫃檯穿這樣我怎麼專心發廢文\n",
      "http://disp.cc/b/796-cdYj\n",
      "\n",
      "■ [新聞] 讚大陸防疫得宜！WHO專家：全世界都欠武漢人民一次\n",
      "http://disp.cc/b/796-c86x\n",
      "\n",
      "■ [問卦] 同事為了月子中心跟老婆吵架\n",
      "http://disp.cc/b/796-cdF4\n",
      "\n",
      "■ [新聞] 無視禁足令！21歲金髮妹炫耀「我才不會感染」　2天後中…\n",
      "http://disp.cc/b/796-cdGk\n",
      "\n",
      "■ Re: [新聞] 快訊／美股崩盤！道瓊暴跌近900點\n",
      "http://disp.cc/b/796-cdKO\n",
      "\n",
      "■ [新聞] 海邊情侶搭帳篷作愛全都錄 里長證實在漁\n",
      "http://disp.cc/b/796-cdWU\n",
      "\n",
      "■ [新聞] 不只博恩！呱吉揭童年慘事「小4被強暴」　地點對象全曝光\n",
      "http://disp.cc/b/796-cdYd\n",
      "\n",
      "■ [新聞] 開槍不慎打死女列被告 民眾打爆電話力挺警察\n",
      "http://disp.cc/b/796-cdYI\n",
      "\n",
      "■ 日本宣佈「大鎖國」\n",
      "http://disp.cc/b/796-ce3b\n",
      "\n",
      "■ [新聞] 王子首相都確診！英國超氣譙中國「蓋牌」：疫情後一定算帳\n",
      "http://disp.cc/b/796-ce3o\n",
      "\n",
      "■ [問卦] 志村健在日本地位 相當於台灣哪位藝人？\n",
      "http://disp.cc/b/796-ce3q\n",
      "\n",
      "■ [新聞] 啦啦隊女神爬山穿這樣！深U內衣迸出超兇碗公奶\n",
      "http://disp.cc/b/796-ce3Z\n",
      "\n",
      "■ [爆卦] 湖南火車出軌最新現場畫面\n",
      "http://disp.cc/b/796-ce4K\n",
      "\n",
      "■ [政治] 郝伯村三總逝世\n",
      "http://disp.cc/b/796-ce55\n",
      "\n",
      "■ [自動轉寄] [爆卦] 掛記者電話的官員被WHO從網站除名\n",
      "http://disp.cc/b/796-ce83\n",
      "\n",
      "□ [公告] PTT 熱門文章板 開板成功\n",
      "http://disp.cc/b/796-59l9\n",
      "\n",
      "\n"
     ]
    }
   ],
   "source": [
    "target_url = 'http://disp.cc/b/PttHot'\n",
    "print('Start parsing pttHot....')\n",
    "rs = requests.session()\n",
    "res = rs.get(target_url, verify=False)\n",
    "soup = BeautifulSoup(res.text, 'html.parser')\n",
    "content = \"\"\n",
    "for data in soup.select('#list div.row2 div span.listTitle'):\n",
    "    title = data.text\n",
    "    link = \"http://disp.cc/b/\" + data.find('a')['href']\n",
    "    \n",
    "    content += '{}\\n{}\\n\\n'.format(title, link)\n",
    "print(content)"
   ]
  },
  {
   "cell_type": "code",
   "execution_count": 12,
   "metadata": {},
   "outputs": [
    {
     "name": "stdout",
     "output_type": "stream",
     "text": [
      "Start parsing ptt hot....\n"
     ]
    },
    {
     "name": "stderr",
     "output_type": "stream",
     "text": [
      "C:\\ProgramData\\Anaconda3\\envs\\work\\lib\\site-packages\\urllib3\\connectionpool.py:1004: InsecureRequestWarning: Unverified HTTPS request is being made to host 'panx.asia'. Adding certificate verification is strongly advised. See: https://urllib3.readthedocs.io/en/latest/advanced-usage.html#ssl-warnings\n",
      "  InsecureRequestWarning,\n"
     ]
    },
    {
     "name": "stdout",
     "output_type": "stream",
     "text": [
      "德州儀器女力專訪：細心、勇氣與溝通力──在科技領域閃耀的工程女傑！\n",
      "https://panx.asia/archives/61927\n",
      "\n",
      "人為什麼換了位置就換了腦袋？談團隊的「相態」改變——...\n",
      "https://panx.asia/archives/61874\n",
      "\n",
      "如何打造瘋狂點子？——《高勝率創新》\n",
      "https://panx.asia/archives/61884\n",
      "\n",
      "瘋狂的點子如何成功？至少死三次，挺過走霉運的日子——...\n",
      "https://panx.asia/archives/61891\n",
      "\n",
      "到了 2030 年，你要令人稱羨的健保，還是令人稱羨的健康？（上）｜臺灣...\n",
      "https://panx.asia/archives/61804\n",
      "\n",
      "到了 2030 年，你要令人稱羨的健保，還是令人稱羨...\n",
      "https://panx.asia/archives/61843\n",
      "\n",
      "\n"
     ]
    }
   ],
   "source": [
    "target_url = 'https://panx.asia/'\n",
    "print('Start parsing ptt hot....')\n",
    "rs = requests.session()\n",
    "res = rs.get(target_url, verify=False)\n",
    "soup = BeautifulSoup(res.text, 'html.parser')\n",
    "content = \"\"\n",
    "for data in soup.select('div.container div.row div.desc_wrap h2 a'):\n",
    "    title = data.text\n",
    "    link = data['href']\n",
    "    content += '{}\\n{}\\n\\n'.format(title, link)\n",
    "print(content)"
   ]
  },
  {
   "cell_type": "code",
   "execution_count": null,
   "metadata": {},
   "outputs": [],
   "source": []
  }
 ],
 "metadata": {
  "kernelspec": {
   "display_name": "Python 3",
   "language": "python",
   "name": "python3"
  },
  "language_info": {
   "codemirror_mode": {
    "name": "ipython",
    "version": 3
   },
   "file_extension": ".py",
   "mimetype": "text/x-python",
   "name": "python",
   "nbconvert_exporter": "python",
   "pygments_lexer": "ipython3",
   "version": "3.7.6"
  }
 },
 "nbformat": 4,
 "nbformat_minor": 4
}
