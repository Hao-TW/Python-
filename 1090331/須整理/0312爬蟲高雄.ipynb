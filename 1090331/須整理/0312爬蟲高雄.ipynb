{
 "cells": [
  {
   "cell_type": "code",
   "execution_count": 1,
   "metadata": {},
   "outputs": [
    {
     "name": "stdout",
     "output_type": "stream",
     "text": [
      "<h1>An Interesting Title</h1>\n"
     ]
    },
    {
     "data": {
      "text/plain": [
       "<h1>An Interesting Title</h1>"
      ]
     },
     "execution_count": 1,
     "metadata": {},
     "output_type": "execute_result"
    }
   ],
   "source": [
    "from urllib.request import urlopen\n",
    "from bs4 import BeautifulSoup\n",
    "html = urlopen(\"http://www.pythonscraping.com/pages/page1.html\")\n",
    "bsObj = BeautifulSoup(html.read())\n",
    "print(bsObj.h1)\n",
    "#从网页中提取的<h1> 标签被嵌在BeautifulSoup 对象bsObj 结构的第二层（html → body → h1）。但是，当我们从对象里提取h1 标签的时候，可以直接调用它：\n",
    "bsObj.h1"
   ]
  },
  {
   "cell_type": "code",
   "execution_count": 2,
   "metadata": {},
   "outputs": [
    {
     "data": {
      "text/plain": [
       "<h1>An Interesting Title</h1>"
      ]
     },
     "execution_count": 2,
     "metadata": {},
     "output_type": "execute_result"
    }
   ],
   "source": [
    "bsObj.body.h1"
   ]
  },
  {
   "cell_type": "code",
   "execution_count": 3,
   "metadata": {},
   "outputs": [
    {
     "data": {
      "text/plain": [
       "<h1>An Interesting Title</h1>"
      ]
     },
     "execution_count": 3,
     "metadata": {},
     "output_type": "execute_result"
    }
   ],
   "source": [
    "bsObj.html.body.h1"
   ]
  },
  {
   "cell_type": "code",
   "execution_count": 4,
   "metadata": {},
   "outputs": [
    {
     "name": "stdout",
     "output_type": "stream",
     "text": [
      "An Interesting Title\n"
     ]
    }
   ],
   "source": [
    "print(bsObj.h1.text)"
   ]
  },
  {
   "cell_type": "code",
   "execution_count": 19,
   "metadata": {},
   "outputs": [
    {
     "name": "stdout",
     "output_type": "stream",
     "text": [
      "<class 'bs4.BeautifulSoup'>\n",
      "爬虫测试1\n",
      "\n",
      " \n",
      "\t\t这是一个在 莫烦Python\n",
      "爬虫教程 中的简单测试.\n",
      "\t\n",
      "[<a href=\"https://morvanzhou.github.io/\">莫烦Python</a>, <a href=\"https://morvanzhou.github.io/tutorials/data-manipulation/scraping/\">爬虫教程</a>]\n",
      "https://morvanzhou.github.io/\n",
      "https://morvanzhou.github.io/tutorials/data-manipulation/scraping/\n"
     ]
    }
   ],
   "source": [
    "from bs4 import BeautifulSoup\n",
    "from urllib.request import urlopen\n",
    "\n",
    "html = urlopen(\"https://morvanzhou.github.io/static/scraping/basic-structure.html\").read().decode('utf-8')\n",
    "\n",
    "soup = BeautifulSoup(html, 'html.parser')\n",
    "print(type(soup))\n",
    "print(soup.h1.text)\n",
    "print('\\n', soup.p.text)\n",
    "all_href = soup.find_all('a')\n",
    "print(all_href)\n",
    "for i in all_href:\n",
    "    print(i['href'])"
   ]
  },
  {
   "cell_type": "code",
   "execution_count": 14,
   "metadata": {},
   "outputs": [
    {
     "name": "stdout",
     "output_type": "stream",
     "text": [
      "['A', 'A', 'A', 'A']\n",
      "A\n",
      "A\n",
      "A\n",
      "A\n"
     ]
    }
   ],
   "source": [
    "list1 = ['A','A','A','A']\n",
    "print(list1)\n",
    "for i in list1:\n",
    "    print(i)"
   ]
  },
  {
   "cell_type": "code",
   "execution_count": 28,
   "metadata": {},
   "outputs": [
    {
     "name": "stdout",
     "output_type": "stream",
     "text": [
      "<class 'bs4.element.ResultSet'>\n",
      "Anna\n",
      "Pavlovna Scherer\n",
      "Empress Marya\n",
      "Fedorovna\n",
      "Prince Vasili Kuragin\n",
      "Anna Pavlovna\n",
      "St. Petersburg\n",
      "the prince\n",
      "Anna Pavlovna\n",
      "Anna Pavlovna\n",
      "the prince\n",
      "the prince\n",
      "the prince\n",
      "Prince Vasili\n",
      "Anna Pavlovna\n",
      "Anna Pavlovna\n",
      "the prince\n",
      "Wintzingerode\n",
      "King of Prussia\n",
      "le Vicomte de Mortemart\n",
      "Montmorencys\n",
      "Rohans\n",
      "Abbe Morio\n",
      "the Emperor\n",
      "the prince\n",
      "Prince Vasili\n",
      "Dowager Empress Marya Fedorovna\n",
      "the baron\n",
      "Anna Pavlovna\n",
      "the Empress\n",
      "the Empress\n",
      "Anna Pavlovna's\n",
      "Her Majesty\n",
      "Baron\n",
      "Funke\n",
      "The prince\n",
      "Anna\n",
      "Pavlovna\n",
      "the Empress\n",
      "The prince\n",
      "Anatole\n",
      "the prince\n",
      "The prince\n",
      "Anna\n",
      "Pavlovna\n",
      "Anna Pavlovna\n"
     ]
    }
   ],
   "source": [
    "from urllib.request import urlopen\n",
    "from bs4 import BeautifulSoup\n",
    "html = urlopen(\"http://www.pythonscraping.com/pages/warandpeace.html\")\n",
    "bsObj = BeautifulSoup(html)\n",
    "#通过BeautifulSoup 对象，我们可以用findAll 函数抽取只包含在<span class=\"green\"></span> 标签里的文字，这样就会得到一个人物名称的Python 列表\n",
    "nameList = bsObj.find_all(\"span\", {\"class\":\"green\"})#findAll(tagName, tagAttributes)是舊版本\n",
    "print(type(nameList))\n",
    "for name in nameList:\n",
    "    print(name.get_text())\n",
    "#.get_text() 会把你正在处理的HTML 文档中所有的标签都清除，然后返回一个只包含文字的字符串。假如你正在处理一个包含许多超链接、段落和标\n",
    "#签的大段源代码，那么.get_text() 会把这些超链接、段落和标签都清除掉，只剩下一串不带标签的文字"
   ]
  },
  {
   "cell_type": "code",
   "execution_count": 20,
   "metadata": {},
   "outputs": [
    {
     "data": {
      "text/plain": [
       "[<h1>War and Peace</h1>, <h2>Chapter 1</h2>]"
      ]
     },
     "execution_count": 20,
     "metadata": {},
     "output_type": "execute_result"
    }
   ],
   "source": [
    "# 下面的代码将返回一个包含HTML 文档中所有标题标签的列表：\n",
    "t = bsObj.find_all({\"h1\",\"h2\",\"h3\",\"h4\",\"h5\",\"h6\"})\n",
    "t"
   ]
  },
  {
   "cell_type": "code",
   "execution_count": 26,
   "metadata": {},
   "outputs": [
    {
     "data": {
      "text/plain": [
       "[<span class=\"red\">Well, Prince, so Genoa and Lucca are now just family estates of the\n",
       " Buonapartes. But I warn you, if you don't tell me that this means war,\n",
       " if you still try to defend the infamies and horrors perpetrated by\n",
       " that Antichrist- I really believe he is Antichrist- I will have\n",
       " nothing more to do with you and you are no longer my friend, no longer\n",
       " my 'faithful slave,' as you call yourself! But how do you do? I see\n",
       " I have frightened you- sit down and tell me all the news.</span>,\n",
       " <span class=\"green\">Anna\n",
       " Pavlovna Scherer</span>,\n",
       " <span class=\"green\">Empress Marya\n",
       " Fedorovna</span>,\n",
       " <span class=\"green\">Prince Vasili Kuragin</span>,\n",
       " <span class=\"green\">Anna Pavlovna</span>,\n",
       " <span class=\"green\">St. Petersburg</span>,\n",
       " <span class=\"red\">If you have nothing better to do, Count [or Prince], and if the\n",
       " prospect of spending an evening with a poor invalid is not too\n",
       " terrible, I shall be very charmed to see you tonight between 7 and 10-\n",
       " Annette Scherer.</span>,\n",
       " <span class=\"red\">Heavens! what a virulent attack!</span>,\n",
       " <span class=\"green\">the prince</span>,\n",
       " <span class=\"green\">Anna Pavlovna</span>,\n",
       " <span class=\"red\">First of all, dear friend, tell me how you are. Set your friend's\n",
       " mind at rest,</span>,\n",
       " <span class=\"red\">Can one be well while suffering morally? Can one be calm in times\n",
       " like these if one has any feeling?</span>,\n",
       " <span class=\"green\">Anna Pavlovna</span>,\n",
       " <span class=\"red\">You are\n",
       " staying the whole evening, I hope?</span>,\n",
       " <span class=\"red\">And the fete at the English ambassador's? Today is Wednesday. I\n",
       " must put in an appearance there,</span>,\n",
       " <span class=\"green\">the prince</span>,\n",
       " <span class=\"red\">My daughter is\n",
       " coming for me to take me there.</span>,\n",
       " <span class=\"red\">I thought today's fete had been canceled. I confess all these\n",
       " festivities and fireworks are becoming wearisome.</span>,\n",
       " <span class=\"red\">If they had known that you wished it, the entertainment would\n",
       " have been put off,</span>,\n",
       " <span class=\"green\">the prince</span>,\n",
       " <span class=\"red\">Don't tease! Well, and what has been decided about Novosiltsev's\n",
       " dispatch? You know everything.</span>,\n",
       " <span class=\"red\">What can one say about it?</span>,\n",
       " <span class=\"green\">the prince</span>,\n",
       " <span class=\"red\">What has been decided? They have decided that\n",
       " Buonaparte has burnt his boats, and I believe that we are ready to\n",
       " burn ours.</span>,\n",
       " <span class=\"green\">Prince Vasili</span>,\n",
       " <span class=\"green\">Anna Pavlovna</span>,\n",
       " <span class=\"green\">Anna Pavlovna</span>,\n",
       " <span class=\"red\">Oh, don't speak to me of Austria. Perhaps I don't understand\n",
       " things, but Austria never has wished, and does not wish, for war.\n",
       " She is betraying us! Russia alone must save Europe. Our gracious\n",
       " sovereign recognizes his high vocation and will be true to it. That is\n",
       " the one thing I have faith in! Our good and wonderful sovereign has to\n",
       " perform the noblest role on earth, and he is so virtuous and noble\n",
       " that God will not forsake him. He will fulfill his vocation and\n",
       " crush the hydra of revolution, which has become more terrible than\n",
       " ever in the person of this murderer and villain! We alone must\n",
       " avenge the blood of the just one.... Whom, I ask you, can we rely\n",
       " on?... England with her commercial spirit will not and cannot\n",
       " understand the Emperor Alexander's loftiness of soul. She has\n",
       " refused to evacuate Malta. She wanted to find, and still seeks, some\n",
       " secret motive in our actions. What answer did Novosiltsev get? None.\n",
       " The English have not understood and cannot understand the\n",
       " self-abnegation of our Emperor who wants nothing for himself, but only\n",
       " desires the good of mankind. And what have they promised? Nothing! And\n",
       " what little they have promised they will not perform! Prussia has\n",
       " always declared that Buonaparte is invincible, and that all Europe\n",
       " is powerless before him.... And I don't believe a word that Hardenburg\n",
       " says, or Haugwitz either. This famous Prussian neutrality is just a\n",
       " trap. I have faith only in God and the lofty destiny of our adored\n",
       " monarch. He will save Europe!</span>,\n",
       " <span class=\"red\">I think,</span>,\n",
       " <span class=\"green\">the prince</span>,\n",
       " <span class=\"red\">that if you had been\n",
       " sent instead of our dear <span class=\"green\">Wintzingerode</span> you would have captured the\n",
       " <span class=\"green\">King of Prussia</span>'s consent by assault. You are so eloquent. Will you\n",
       " give me a cup of tea?</span>,\n",
       " <span class=\"green\">Wintzingerode</span>,\n",
       " <span class=\"green\">King of Prussia</span>,\n",
       " <span class=\"red\">In a moment. A propos,</span>,\n",
       " <span class=\"red\">I am\n",
       " expecting two very interesting men tonight, <span class=\"green\">le Vicomte de Mortemart</span>,\n",
       " who is connected with the <span class=\"green\">Montmorencys</span> through the <span class=\"green\">Rohans</span>, one of\n",
       " the best French families. He is one of the genuine emigres, the good\n",
       " ones. And also the <span class=\"green\">Abbe Morio</span>. Do you know that profound thinker? He\n",
       " has been received by <span class=\"green\">the Emperor</span>. Had you heard?</span>,\n",
       " <span class=\"green\">le Vicomte de Mortemart</span>,\n",
       " <span class=\"green\">Montmorencys</span>,\n",
       " <span class=\"green\">Rohans</span>,\n",
       " <span class=\"green\">Abbe Morio</span>,\n",
       " <span class=\"green\">the Emperor</span>,\n",
       " <span class=\"red\">I shall be delighted to meet them,</span>,\n",
       " <span class=\"green\">the prince</span>,\n",
       " <span class=\"red\">But tell me,</span>,\n",
       " <span class=\"red\">is it true that the Dowager Empress wants Baron Funke\n",
       " to be appointed first secretary at Vienna? The baron by all accounts\n",
       " is a poor creature.</span>,\n",
       " <span class=\"green\">Prince Vasili</span>,\n",
       " <span class=\"green\">Dowager Empress Marya Fedorovna</span>,\n",
       " <span class=\"green\">the baron</span>,\n",
       " <span class=\"green\">Anna Pavlovna</span>,\n",
       " <span class=\"green\">the Empress</span>,\n",
       " <span class=\"red\">Baron Funke has been recommended to the Dowager Empress by her\n",
       " sister,</span>,\n",
       " <span class=\"green\">the Empress</span>,\n",
       " <span class=\"green\">Anna Pavlovna's</span>,\n",
       " <span class=\"green\">Her Majesty</span>,\n",
       " <span class=\"green\">Baron\n",
       " Funke</span>,\n",
       " <span class=\"green\">The prince</span>,\n",
       " <span class=\"green\">Anna\n",
       " Pavlovna</span>,\n",
       " <span class=\"green\">the Empress</span>,\n",
       " <span class=\"red\">Now about your family. Do you know that since your daughter came\n",
       " out everyone has been enraptured by her? They say she is amazingly\n",
       " beautiful.</span>,\n",
       " <span class=\"green\">The prince</span>,\n",
       " <span class=\"red\">I often think,</span>,\n",
       " <span class=\"red\">I often think how unfairly sometimes the\n",
       " joys of life are distributed. Why has fate given you two such splendid\n",
       " children? I don't speak of <span class=\"green\">Anatole</span>, your youngest. I don't like\n",
       " him,</span>,\n",
       " <span class=\"green\">Anatole</span>,\n",
       " <span class=\"red\">Two such charming children. And really you appreciate\n",
       " them less than anyone, and so you don't deserve to have them.</span>,\n",
       " <span class=\"red\">I can't help it,</span>,\n",
       " <span class=\"green\">the prince</span>,\n",
       " <span class=\"red\">Lavater would have said I\n",
       " lack the bump of paternity.</span>,\n",
       " <span class=\"red\">Don't joke; I mean to have a serious talk with you. Do you know I\n",
       " am dissatisfied with your younger son? Between ourselves</span>,\n",
       " <span class=\"red\">he was mentioned at Her\n",
       " Majesty's and you were pitied....</span>,\n",
       " <span class=\"green\">The prince</span>,\n",
       " <span class=\"red\">What would you have me do?</span>,\n",
       " <span class=\"red\">You know I did all\n",
       " a father could for their education, and they have both turned out\n",
       " fools. Hippolyte is at least a quiet fool, but Anatole is an active\n",
       " one. That is the only difference between them.</span>,\n",
       " <span class=\"red\">And why are children born to such men as you? If you were not a\n",
       " father there would be nothing I could reproach you with,</span>,\n",
       " <span class=\"green\">Anna\n",
       " Pavlovna</span>,\n",
       " <span class=\"red\">I am your faithful slave and to you alone I can confess that my\n",
       " children are the bane of my life. It is the cross I have to bear. That\n",
       " is how I explain it to myself. It can't be helped!</span>,\n",
       " <span class=\"green\">Anna Pavlovna</span>]"
      ]
     },
     "execution_count": 26,
     "metadata": {},
     "output_type": "execute_result"
    }
   ],
   "source": [
    "t = bsObj.find_all(\"span\", {\"class\":{\"green\", \"red\"}})\n",
    "t   "
   ]
  },
  {
   "cell_type": "code",
   "execution_count": 32,
   "metadata": {},
   "outputs": [
    {
     "data": {
      "text/plain": [
       "[<div id=\"text\">\n",
       " \"<span class=\"red\">Well, Prince, so Genoa and Lucca are now just family estates of the\n",
       " Buonapartes. But I warn you, if you don't tell me that this means war,\n",
       " if you still try to defend the infamies and horrors perpetrated by\n",
       " that Antichrist- I really believe he is Antichrist- I will have\n",
       " nothing more to do with you and you are no longer my friend, no longer\n",
       " my 'faithful slave,' as you call yourself! But how do you do? I see\n",
       " I have frightened you- sit down and tell me all the news.</span>\"\n",
       " <p></p>\n",
       " It was in July, 1805, and the speaker was the well-known <span class=\"green\">Anna\n",
       " Pavlovna Scherer</span>, maid of honor and favorite of the <span class=\"green\">Empress Marya\n",
       " Fedorovna</span>. With these words she greeted <span class=\"green\">Prince Vasili Kuragin</span>, a man\n",
       " of high rank and importance, who was the first to arrive at her\n",
       " reception. <span class=\"green\">Anna Pavlovna</span> had had a cough for some days. She was, as\n",
       " she said, suffering from la grippe; grippe being then a new word in\n",
       " <span class=\"green\">St. Petersburg</span>, used only by the elite.\n",
       " <p></p>\n",
       " All her invitations without exception, written in French, and\n",
       " delivered by a scarlet-liveried footman that morning, ran as follows:\n",
       " <p></p>\n",
       " \"<span class=\"red\">If you have nothing better to do, Count [or Prince], and if the\n",
       " prospect of spending an evening with a poor invalid is not too\n",
       " terrible, I shall be very charmed to see you tonight between 7 and 10-\n",
       " Annette Scherer.</span>\"\n",
       " <p></p>\n",
       " \"<span class=\"red\">Heavens! what a virulent attack!</span>\" replied <span class=\"green\">the prince</span>, not in the\n",
       " least disconcerted by this reception. He had just entered, wearing\n",
       " an embroidered court uniform, knee breeches, and shoes, and had\n",
       " stars on his breast and a serene expression on his flat face. He spoke\n",
       " in that refined French in which our grandfathers not only spoke but\n",
       " thought, and with the gentle, patronizing intonation natural to a\n",
       " man of importance who had grown old in society and at court. He went\n",
       " up to <span class=\"green\">Anna Pavlovna</span>, kissed her hand, presenting to her his bald,\n",
       " scented, and shining head, and complacently seated himself on the\n",
       " sofa.\n",
       " <p></p>\n",
       " \"<span class=\"red\">First of all, dear friend, tell me how you are. Set your friend's\n",
       " mind at rest,</span>\" said he without altering his tone, beneath the\n",
       " politeness and affected sympathy of which indifference and even\n",
       " irony could be discerned.\n",
       " <p></p>\n",
       " \"<span class=\"red\">Can one be well while suffering morally? Can one be calm in times\n",
       " like these if one has any feeling?</span>\" said <span class=\"green\">Anna Pavlovna</span>. \"<span class=\"red\">You are\n",
       " staying the whole evening, I hope?</span>\"\n",
       " <p></p>\n",
       " \"<span class=\"red\">And the fete at the English ambassador's? Today is Wednesday. I\n",
       " must put in an appearance there,</span>\" said <span class=\"green\">the prince</span>. \"<span class=\"red\">My daughter is\n",
       " coming for me to take me there.</span>\"\n",
       " <p></p>\n",
       " \"<span class=\"red\">I thought today's fete had been canceled. I confess all these\n",
       " festivities and fireworks are becoming wearisome.</span>\"\n",
       " <p></p>\n",
       " \"<span class=\"red\">If they had known that you wished it, the entertainment would\n",
       " have been put off,</span>\" said <span class=\"green\">the prince</span>, who, like a wound-up clock, by\n",
       " force of habit said things he did not even wish to be believed.\n",
       " <p></p>\n",
       " \"<span class=\"red\">Don't tease! Well, and what has been decided about Novosiltsev's\n",
       " dispatch? You know everything.</span>\"\n",
       " <p></p>\n",
       " \"<span class=\"red\">What can one say about it?</span>\" replied <span class=\"green\">the prince</span> in a cold,\n",
       " listless tone. \"<span class=\"red\">What has been decided? They have decided that\n",
       " Buonaparte has burnt his boats, and I believe that we are ready to\n",
       " burn ours.</span>\"\n",
       " <p></p>\n",
       " <span class=\"green\">Prince Vasili</span> always spoke languidly, like an actor repeating a\n",
       " stale part. <span class=\"green\">Anna Pavlovna</span> Scherer on the contrary, despite her forty\n",
       " years, overflowed with animation and impulsiveness. To be an\n",
       " enthusiast had become her social vocation and, sometimes even when she\n",
       " did not feel like it, she became enthusiastic in order not to\n",
       " disappoint the expectations of those who knew her. The subdued smile\n",
       " which, though it did not suit her faded features, always played\n",
       " round her lips expressed, as in a spoiled child, a continual\n",
       " consciousness of her charming defect, which she neither wished, nor\n",
       " could, nor considered it necessary, to correct.\n",
       " <p></p>\n",
       " In the midst of a conversation on political matters <span class=\"green\">Anna Pavlovna</span>\n",
       " burst out:\n",
       " <p></p>\n",
       " \"<span class=\"red\">Oh, don't speak to me of Austria. Perhaps I don't understand\n",
       " things, but Austria never has wished, and does not wish, for war.\n",
       " She is betraying us! Russia alone must save Europe. Our gracious\n",
       " sovereign recognizes his high vocation and will be true to it. That is\n",
       " the one thing I have faith in! Our good and wonderful sovereign has to\n",
       " perform the noblest role on earth, and he is so virtuous and noble\n",
       " that God will not forsake him. He will fulfill his vocation and\n",
       " crush the hydra of revolution, which has become more terrible than\n",
       " ever in the person of this murderer and villain! We alone must\n",
       " avenge the blood of the just one.... Whom, I ask you, can we rely\n",
       " on?... England with her commercial spirit will not and cannot\n",
       " understand the Emperor Alexander's loftiness of soul. She has\n",
       " refused to evacuate Malta. She wanted to find, and still seeks, some\n",
       " secret motive in our actions. What answer did Novosiltsev get? None.\n",
       " The English have not understood and cannot understand the\n",
       " self-abnegation of our Emperor who wants nothing for himself, but only\n",
       " desires the good of mankind. And what have they promised? Nothing! And\n",
       " what little they have promised they will not perform! Prussia has\n",
       " always declared that Buonaparte is invincible, and that all Europe\n",
       " is powerless before him.... And I don't believe a word that Hardenburg\n",
       " says, or Haugwitz either. This famous Prussian neutrality is just a\n",
       " trap. I have faith only in God and the lofty destiny of our adored\n",
       " monarch. He will save Europe!</span>\"\n",
       " <p></p>\n",
       " She suddenly paused, smiling at her own impetuosity.\n",
       " <p></p>\n",
       " \"<span class=\"red\">I think,</span>\" said <span class=\"green\">the prince</span> with a smile, \"<span class=\"red\">that if you had been\n",
       " sent instead of our dear <span class=\"green\">Wintzingerode</span> you would have captured the\n",
       " <span class=\"green\">King of Prussia</span>'s consent by assault. You are so eloquent. Will you\n",
       " give me a cup of tea?</span>\"\n",
       " <p></p>\n",
       " \"<span class=\"red\">In a moment. A propos,</span>\" she added, becoming calm again, \"<span class=\"red\">I am\n",
       " expecting two very interesting men tonight, <span class=\"green\">le Vicomte de Mortemart</span>,\n",
       " who is connected with the <span class=\"green\">Montmorencys</span> through the <span class=\"green\">Rohans</span>, one of\n",
       " the best French families. He is one of the genuine emigres, the good\n",
       " ones. And also the <span class=\"green\">Abbe Morio</span>. Do you know that profound thinker? He\n",
       " has been received by <span class=\"green\">the Emperor</span>. Had you heard?</span>\"\n",
       " <p></p>\n",
       " \"<span class=\"red\">I shall be delighted to meet them,</span>\" said <span class=\"green\">the prince</span>. \"<span class=\"red\">But tell me,</span>\"\n",
       " he added with studied carelessness as if it had only just occurred\n",
       " to him, though the question he was about to ask was the chief motive\n",
       " of his visit, \"<span class=\"red\">is it true that the Dowager Empress wants Baron Funke\n",
       " to be appointed first secretary at Vienna? The baron by all accounts\n",
       " is a poor creature.</span>\"\n",
       " <p></p>\n",
       " <span class=\"green\">Prince Vasili</span> wished to obtain this post for his son, but others\n",
       " were trying through the <span class=\"green\">Dowager Empress Marya Fedorovna</span> to secure it\n",
       " for <span class=\"green\">the baron</span>.\n",
       " <p></p>\n",
       " <span class=\"green\">Anna Pavlovna</span> almost closed her eyes to indicate that neither she\n",
       " nor anyone else had a right to criticize what <span class=\"green\">the Empress</span> desired or\n",
       " was pleased with.\n",
       " <p></p>\n",
       " \"<span class=\"red\">Baron Funke has been recommended to the Dowager Empress by her\n",
       " sister,</span>\" was all she said, in a dry and mournful tone.\n",
       " <p></p>\n",
       " As she named <span class=\"green\">the Empress</span>, <span class=\"green\">Anna Pavlovna's</span> face suddenly assumed an\n",
       " expression of profound and sincere devotion and respect mingled with\n",
       " sadness, and this occurred every time she mentioned her illustrious\n",
       " patroness. She added that <span class=\"green\">Her Majesty</span> had deigned to show <span class=\"green\">Baron\n",
       " Funke</span>, and again her face clouded over with sadness.\n",
       " <p></p>\n",
       " <span class=\"green\">The prince</span> was silent and looked indifferent. But, with the\n",
       " womanly and courtierlike quickness and tact habitual to her, <span class=\"green\">Anna\n",
       " Pavlovna</span> wished both to rebuke him (for daring to speak he had done of\n",
       " a man recommended to <span class=\"green\">the Empress</span>) and at the same time to console him,\n",
       " so she said:\n",
       " <p></p>\n",
       " \"<span class=\"red\">Now about your family. Do you know that since your daughter came\n",
       " out everyone has been enraptured by her? They say she is amazingly\n",
       " beautiful.</span>\"\n",
       " <p></p>\n",
       " <span class=\"green\">The prince</span> bowed to signify his respect and gratitude.\n",
       " <p></p>\n",
       " \"<span class=\"red\">I often think,</span>\" she continued after a short pause, drawing nearer\n",
       " to the prince and smiling amiably at him as if to show that\n",
       " political and social topics were ended and the time had come for\n",
       " intimate conversation- \"<span class=\"red\">I often think how unfairly sometimes the\n",
       " joys of life are distributed. Why has fate given you two such splendid\n",
       " children? I don't speak of <span class=\"green\">Anatole</span>, your youngest. I don't like\n",
       " him,</span>\" she added in a tone admitting of no rejoinder and raising her\n",
       " eyebrows. \"<span class=\"red\">Two such charming children. And really you appreciate\n",
       " them less than anyone, and so you don't deserve to have them.</span>\"\n",
       " <p></p>\n",
       " And she smiled her ecstatic smile.\n",
       " <p></p>\n",
       " \"<span class=\"red\">I can't help it,</span>\" said <span class=\"green\">the prince</span>. \"<span class=\"red\">Lavater would have said I\n",
       " lack the bump of paternity.</span>\"\n",
       " <p></p>\n",
       " \"<span class=\"red\">Don't joke; I mean to have a serious talk with you. Do you know I\n",
       " am dissatisfied with your younger son? Between ourselves</span>\" (and her\n",
       " face assumed its melancholy expression), \"<span class=\"red\">he was mentioned at Her\n",
       " Majesty's and you were pitied....</span>\"\n",
       " <p></p>\n",
       " <span class=\"green\">The prince</span> answered nothing, but she looked at him significantly,\n",
       " awaiting a reply. He frowned.\n",
       " <p></p>\n",
       " \"<span class=\"red\">What would you have me do?</span>\" he said at last. \"<span class=\"red\">You know I did all\n",
       " a father could for their education, and they have both turned out\n",
       " fools. Hippolyte is at least a quiet fool, but Anatole is an active\n",
       " one. That is the only difference between them.</span>\" He said this smiling\n",
       " in a way more natural and animated than usual, so that the wrinkles\n",
       " round his mouth very clearly revealed something unexpectedly coarse\n",
       " and unpleasant.\n",
       " <p></p>\n",
       " \"<span class=\"red\">And why are children born to such men as you? If you were not a\n",
       " father there would be nothing I could reproach you with,</span>\" said <span class=\"green\">Anna\n",
       " Pavlovna</span>, looking up pensively.\n",
       " <p></p>\n",
       " \"<span class=\"red\">I am your faithful slave and to you alone I can confess that my\n",
       " children are the bane of my life. It is the cross I have to bear. That\n",
       " is how I explain it to myself. It can't be helped!</span>\"\n",
       " <p></p>\n",
       " He said no more, but expressed his resignation to cruel fate by a\n",
       " gesture. <span class=\"green\">Anna Pavlovna</span> meditated.\n",
       " </div>]"
      ]
     },
     "execution_count": 32,
     "metadata": {},
     "output_type": "execute_result"
    }
   ],
   "source": [
    "#关键词参数keyword，可以让你选择那些具有指定属性的标签。例如：\n",
    "bsObj.find_all(id=\"text\")\n",
    "bsObj.find_all(\"div\", {\"id\":\"text\"})"
   ]
  },
  {
   "cell_type": "code",
   "execution_count": 33,
   "metadata": {},
   "outputs": [
    {
     "name": "stdout",
     "output_type": "stream",
     "text": [
      "Anna\n",
      "Pavlovna Scherer\n",
      "Empress Marya\n",
      "Fedorovna\n",
      "Prince Vasili Kuragin\n",
      "Anna Pavlovna\n",
      "St. Petersburg\n",
      "the prince\n",
      "Anna Pavlovna\n",
      "Anna Pavlovna\n",
      "the prince\n",
      "the prince\n",
      "the prince\n",
      "Prince Vasili\n",
      "Anna Pavlovna\n",
      "Anna Pavlovna\n",
      "the prince\n",
      "Wintzingerode\n",
      "King of Prussia\n",
      "le Vicomte de Mortemart\n",
      "Montmorencys\n",
      "Rohans\n",
      "Abbe Morio\n",
      "the Emperor\n",
      "the prince\n",
      "Prince Vasili\n",
      "Dowager Empress Marya Fedorovna\n",
      "the baron\n",
      "Anna Pavlovna\n",
      "the Empress\n",
      "the Empress\n",
      "Anna Pavlovna's\n",
      "Her Majesty\n",
      "Baron\n",
      "Funke\n",
      "The prince\n",
      "Anna\n",
      "Pavlovna\n",
      "the Empress\n",
      "The prince\n",
      "Anatole\n",
      "the prince\n",
      "The prince\n",
      "Anna\n",
      "Pavlovna\n",
      "Anna Pavlovna\n"
     ]
    }
   ],
   "source": [
    "nameList = bsObj.find_all(\"span\", class_=\"green\")\n",
    "\n",
    "for name in nameList:\n",
    "    print(name.get_text())"
   ]
  },
  {
   "cell_type": "code",
   "execution_count": 2,
   "metadata": {},
   "outputs": [
    {
     "name": "stdout",
     "output_type": "stream",
     "text": [
      "串列長度 4\n",
      "<div class=\"contents_box02\">\n",
      "<div id=\"contents_logo_02\"></div><div class=\"contents_mine_tx02\"><span class=\"font_black15\">109/3/30 第109000026期 </span><span class=\"font_red14\"><a href=\"Result_all.aspx#01\">開獎結果</a></span></div><div class=\"contents_mine_tx04\">開出順序<br/>大小順序<br/>第二區</div><div class=\"ball_tx ball_green\">09 </div><div class=\"ball_tx ball_green\">12 </div><div class=\"ball_tx ball_green\">33 </div><div class=\"ball_tx ball_green\">36 </div><div class=\"ball_tx ball_green\">31 </div><div class=\"ball_tx ball_green\">11 </div><div class=\"ball_tx ball_green\">09 </div><div class=\"ball_tx ball_green\">11 </div><div class=\"ball_tx ball_green\">12 </div><div class=\"ball_tx ball_green\">31 </div><div class=\"ball_tx ball_green\">33 </div><div class=\"ball_tx ball_green\">36 </div><div class=\"ball_red\">05 </div>\n",
      "</div>\n",
      "<div class=\"contents_box02\">\n",
      "<div id=\"contents_logo_03\"></div><div class=\"contents_mine_tx02\"><span class=\"font_black15\">109/3/30 第109000026期 </span><span class=\"font_red14\"><a href=\"Result_all.aspx#07\">開獎結果</a></span></div><div class=\"contents_mine_tx04\">開出順序<br/>大小順序</div><div class=\"ball_tx ball_green\">09 </div><div class=\"ball_tx ball_green\">12 </div><div class=\"ball_tx ball_green\">33 </div><div class=\"ball_tx ball_green\">36 </div><div class=\"ball_tx ball_green\">31 </div><div class=\"ball_tx ball_green\">11 </div><div class=\"ball_tx ball_green\">09 </div><div class=\"ball_tx ball_green\">11 </div><div class=\"ball_tx ball_green\">12 </div><div class=\"ball_tx ball_green\">31 </div><div class=\"ball_tx ball_green\">33 </div><div class=\"ball_tx ball_green\">36 </div>\n",
      "</div>\n",
      "<div class=\"contents_box02\">\n",
      "<div id=\"contents_logo_04\"></div><div class=\"contents_mine_tx02\"><span class=\"font_black15\">109/3/27 第109000033期 </span><span class=\"font_red14\"><a href=\"Result_all.aspx#02\">開獎結果</a></span></div><div class=\"contents_mine_tx04\">開出順序<br/>大小順序<br/>特別號</div><div class=\"ball_tx ball_yellow\">49 </div><div class=\"ball_tx ball_yellow\">08 </div><div class=\"ball_tx ball_yellow\">23 </div><div class=\"ball_tx ball_yellow\">02 </div><div class=\"ball_tx ball_yellow\">16 </div><div class=\"ball_tx ball_yellow\">10 </div><div class=\"ball_tx ball_yellow\">02 </div><div class=\"ball_tx ball_yellow\">08 </div><div class=\"ball_tx ball_yellow\">10 </div><div class=\"ball_tx ball_yellow\">16 </div><div class=\"ball_tx ball_yellow\">23 </div><div class=\"ball_tx ball_yellow\">49 </div><div class=\"ball_red\">41 </div>\n",
      "</div>\n",
      "<div class=\"contents_box02\">\n",
      "<div id=\"contents_logo_05\"></div><div class=\"contents_mine_tx02\"><span class=\"font_black15\">109/3/27 第109000033期 </span><span class=\"font_red14\"><a href=\"Result_all.aspx#08\">開獎結果</a></span></div><div class=\"contents_mine_tx04\">開出順序<br/>大小順序</div><div class=\"ball_tx ball_yellow\">49 </div><div class=\"ball_tx ball_yellow\">08 </div><div class=\"ball_tx ball_yellow\">23 </div><div class=\"ball_tx ball_yellow\">02 </div><div class=\"ball_tx ball_yellow\">16 </div><div class=\"ball_tx ball_yellow\">10 </div><div class=\"ball_tx ball_yellow\">02 </div><div class=\"ball_tx ball_yellow\">08 </div><div class=\"ball_tx ball_yellow\">10 </div><div class=\"ball_tx ball_yellow\">16 </div><div class=\"ball_tx ball_yellow\">23 </div><div class=\"ball_tx ball_yellow\">49 </div>\n",
      "</div>\n"
     ]
    }
   ],
   "source": [
    "import bs4, requests\n",
    "\n",
    "url = 'http://www.taiwanlottery.com.tw'\n",
    "html = requests.get(url)\n",
    "\n",
    "html.raise_for_status()                             # 驗證網頁是否下載成功                      \n",
    "\n",
    "\n",
    "objSoup = bs4.BeautifulSoup(html.text, 'html.parser')      # 建立BeautifulSoup物件\n",
    "\n",
    "dataTag = objSoup.select('.contents_box02')         # 尋找class是contents_box02\n",
    "print(\"串列長度\", len(dataTag))\n",
    "for i in range(len(dataTag)):                       # 列出含contents_box02的串列                 \n",
    "    print(dataTag[i])"
   ]
  },
  {
   "cell_type": "code",
   "execution_count": 45,
   "metadata": {},
   "outputs": [
    {
     "name": "stdout",
     "output_type": "stream",
     "text": [
      "<class 'bs4.element.ResultSet'>\n",
      "開出順序 : 27    18    30    19    22    35    "
     ]
    }
   ],
   "source": [
    "# 綠球開出順序\n",
    "balls = dataTag[0].find_all('div', {'class':'ball_tx ball_green'})\n",
    "print(type(balls))\n",
    "print(\"開出順序 : \", end='')\n",
    "for i in range(6):                                  # 前6球是開出順序\n",
    "    print(balls[i].text, end='   ')"
   ]
  },
  {
   "cell_type": "code",
   "execution_count": 42,
   "metadata": {},
   "outputs": [
    {
     "name": "stdout",
     "output_type": "stream",
     "text": [
      "開出順序 : 01    12    34    37    04    25    "
     ]
    }
   ],
   "source": [
    "# 黃球開出順序\n",
    "balls = dataTag[2].find_all('div', {'class':'ball_tx ball_yellow'})\n",
    "\n",
    "print(\"開出順序 : \", end='')\n",
    "for i in range(6):                                  # 前6球是開出順序\n",
    "    print(balls[i].text, end='   ')"
   ]
  },
  {
   "cell_type": "code",
   "execution_count": 43,
   "metadata": {},
   "outputs": [
    {
     "name": "stdout",
     "output_type": "stream",
     "text": [
      "\n",
      "大小順序 : 01    04    12    25    34    37    "
     ]
    }
   ],
   "source": [
    "# 綠球大小順序\n",
    "print(\"\\n大小順序 : \", end='')\n",
    "for i in range(6,len(balls)):                       # 第7球以後是大小順序\n",
    "    print(balls[i].text, end='   ')"
   ]
  },
  {
   "cell_type": "code",
   "execution_count": 44,
   "metadata": {},
   "outputs": [
    {
     "name": "stdout",
     "output_type": "stream",
     "text": [
      "\n",
      "第二區   : 01 \n"
     ]
    }
   ],
   "source": [
    "# 找出第二區的紅球                   \n",
    "redball = dataTag[0].find_all('div', {'class':'ball_red'})\n",
    "print(\"\\n第二區   :\", redball[0].text)"
   ]
  },
  {
   "cell_type": "code",
   "execution_count": 50,
   "metadata": {},
   "outputs": [
    {
     "name": "stdout",
     "output_type": "stream",
     "text": [
      "一月\n",
      "二月\n",
      "三月\n",
      "四月\n",
      "五月\n"
     ]
    }
   ],
   "source": [
    "from urllib.request import urlopen\n",
    "from bs4 import BeautifulSoup\n",
    "\n",
    "html = urlopen(\"https://morvanzhou.github.io/static/scraping/list.html\").read().decode('utf-8')\n",
    "\n",
    "soup = BeautifulSoup(html, 'html.parser')\n",
    "\n",
    "#month = soup.find_all('li', {\"class\": \"month\"})\n",
    "month = soup.find_all('li', class_=\"month\")\n",
    "\n",
    "for m in month:\n",
    "    print(m.get_text())#只會擷取文字"
   ]
  },
  {
   "cell_type": "code",
   "execution_count": null,
   "metadata": {},
   "outputs": [],
   "source": []
  }
 ],
 "metadata": {
  "kernelspec": {
   "display_name": "Python 3",
   "language": "python",
   "name": "python3"
  },
  "language_info": {
   "codemirror_mode": {
    "name": "ipython",
    "version": 3
   },
   "file_extension": ".py",
   "mimetype": "text/x-python",
   "name": "python",
   "nbconvert_exporter": "python",
   "pygments_lexer": "ipython3",
   "version": "3.7.0"
  }
 },
 "nbformat": 4,
 "nbformat_minor": 4
}
