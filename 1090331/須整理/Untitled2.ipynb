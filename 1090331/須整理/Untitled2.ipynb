{
 "cells": [
  {
   "cell_type": "code",
   "execution_count": 3,
   "metadata": {},
   "outputs": [
    {
     "name": "stdout",
     "output_type": "stream",
     "text": [
      "Anna\n",
      "Pavlovna Scherer\n",
      "Empress Marya\n",
      "Fedorovna\n",
      "Prince Vasili Kuragin\n",
      "Anna Pavlovna\n",
      "St. Petersburg\n",
      "the prince\n",
      "Anna Pavlovna\n",
      "Anna Pavlovna\n",
      "the prince\n",
      "the prince\n",
      "the prince\n",
      "Prince Vasili\n",
      "Anna Pavlovna\n",
      "Anna Pavlovna\n",
      "the prince\n",
      "Wintzingerode\n",
      "King of Prussia\n",
      "le Vicomte de Mortemart\n",
      "Montmorencys\n",
      "Rohans\n",
      "Abbe Morio\n",
      "the Emperor\n",
      "the prince\n",
      "Prince Vasili\n",
      "Dowager Empress Marya Fedorovna\n",
      "the baron\n",
      "Anna Pavlovna\n",
      "the Empress\n",
      "the Empress\n",
      "Anna Pavlovna's\n",
      "Her Majesty\n",
      "Baron\n",
      "Funke\n",
      "The prince\n",
      "Anna\n",
      "Pavlovna\n",
      "the Empress\n",
      "The prince\n",
      "Anatole\n",
      "the prince\n",
      "The prince\n",
      "Anna\n",
      "Pavlovna\n",
      "Anna Pavlovna\n"
     ]
    }
   ],
   "source": [
    "from urllib.request import urlopen\n",
    "\n",
    "from bs4 import BeautifulSoup\n",
    "\n",
    "html = urlopen(\"http://www.pythonscraping.com/pages/warandpeace.html\")\n",
    "bsObj = BeautifulSoup(html)\n",
    "nameList = bsObj.find_all(\"span\",{\"class\":\"green\"})\n",
    "for name in nameList:\n",
    "    print(name.get_text())\n"
   ]
  },
  {
   "cell_type": "code",
   "execution_count": 5,
   "metadata": {},
   "outputs": [
    {
     "name": "stdout",
     "output_type": "stream",
     "text": [
      "[<h1>War and Peace</h1>, <h2>Chapter 1</h2>]\n"
     ]
    }
   ],
   "source": [
    "t = bsObj.find_all({'h1','h2','h3'})\n",
    "print(t)"
   ]
  },
  {
   "cell_type": "code",
   "execution_count": 6,
   "metadata": {},
   "outputs": [
    {
     "name": "stdout",
     "output_type": "stream",
     "text": [
      "[]\n"
     ]
    }
   ],
   "source": [
    "t = bsObj.find_all(\"span\",{\"class\":{'h1','h2','h3'}})\n",
    "print(t)"
   ]
  },
  {
   "cell_type": "code",
   "execution_count": 9,
   "metadata": {},
   "outputs": [
    {
     "name": "stdout",
     "output_type": "stream",
     "text": [
      "Anna\n",
      "Pavlovna Scherer\n",
      "Empress Marya\n",
      "Fedorovna\n",
      "Prince Vasili Kuragin\n",
      "Anna Pavlovna\n",
      "St. Petersburg\n",
      "the prince\n",
      "Anna Pavlovna\n",
      "Anna Pavlovna\n",
      "the prince\n",
      "the prince\n",
      "the prince\n",
      "Prince Vasili\n",
      "Anna Pavlovna\n",
      "Anna Pavlovna\n",
      "the prince\n",
      "Wintzingerode\n",
      "King of Prussia\n",
      "le Vicomte de Mortemart\n",
      "Montmorencys\n",
      "Rohans\n",
      "Abbe Morio\n",
      "the Emperor\n",
      "the prince\n",
      "Prince Vasili\n",
      "Dowager Empress Marya Fedorovna\n",
      "the baron\n",
      "Anna Pavlovna\n",
      "the Empress\n",
      "the Empress\n",
      "Anna Pavlovna's\n",
      "Her Majesty\n",
      "Baron\n",
      "Funke\n",
      "The prince\n",
      "Anna\n",
      "Pavlovna\n",
      "the Empress\n",
      "The prince\n",
      "Anatole\n",
      "the prince\n",
      "The prince\n",
      "Anna\n",
      "Pavlovna\n",
      "Anna Pavlovna\n"
     ]
    }
   ],
   "source": [
    "#具有指定性的標籤\n",
    "bsObj.find_all(id='text')\n",
    "bsObj.find_all('div',{'id':'text'})\n",
    "\n",
    "#第三種方式\n",
    "nameL = bsObj.find_all('span',class_='green')\n",
    "for n in nameL:\n",
    "    print(n.get_text())\n"
   ]
  },
  {
   "cell_type": "code",
   "execution_count": 21,
   "metadata": {},
   "outputs": [
    {
     "name": "stdout",
     "output_type": "stream",
     "text": [
      "串列長度 4\n",
      "<div class=\"contents_box02\">\n",
      "<div id=\"contents_logo_02\"></div><div class=\"contents_mine_tx02\"><span class=\"font_black15\">109/3/9 第109000020期 </span><span class=\"font_red14\"><a href=\"Result_all.aspx#01\">開獎結果</a></span></div><div class=\"contents_mine_tx04\">開出順序<br/>大小順序<br/>第二區</div><div class=\"ball_tx ball_green\">27 </div><div class=\"ball_tx ball_green\">18 </div><div class=\"ball_tx ball_green\">30 </div><div class=\"ball_tx ball_green\">19 </div><div class=\"ball_tx ball_green\">22 </div><div class=\"ball_tx ball_green\">35 </div><div class=\"ball_tx ball_green\">18 </div><div class=\"ball_tx ball_green\">19 </div><div class=\"ball_tx ball_green\">22 </div><div class=\"ball_tx ball_green\">27 </div><div class=\"ball_tx ball_green\">30 </div><div class=\"ball_tx ball_green\">35 </div><div class=\"ball_red\">01 </div>\n",
      "</div>\n",
      "<div class=\"contents_box02\">\n",
      "<div id=\"contents_logo_03\"></div><div class=\"contents_mine_tx02\"><span class=\"font_black15\">109/3/9 第109000020期 </span><span class=\"font_red14\"><a href=\"Result_all.aspx#07\">開獎結果</a></span></div><div class=\"contents_mine_tx04\">開出順序<br/>大小順序</div><div class=\"ball_tx ball_green\">27 </div><div class=\"ball_tx ball_green\">18 </div><div class=\"ball_tx ball_green\">30 </div><div class=\"ball_tx ball_green\">19 </div><div class=\"ball_tx ball_green\">22 </div><div class=\"ball_tx ball_green\">35 </div><div class=\"ball_tx ball_green\">18 </div><div class=\"ball_tx ball_green\">19 </div><div class=\"ball_tx ball_green\">22 </div><div class=\"ball_tx ball_green\">27 </div><div class=\"ball_tx ball_green\">30 </div><div class=\"ball_tx ball_green\">35 </div>\n",
      "</div>\n",
      "<div class=\"contents_box02\">\n",
      "<div id=\"contents_logo_04\"></div><div class=\"contents_mine_tx02\"><span class=\"font_black15\">109/3/10 第109000028期 </span><span class=\"font_red14\"><a href=\"Result_all.aspx#02\">開獎結果</a></span></div><div class=\"contents_mine_tx04\">開出順序<br/>大小順序<br/>特別號</div><div class=\"ball_tx ball_yellow\">01 </div><div class=\"ball_tx ball_yellow\">12 </div><div class=\"ball_tx ball_yellow\">34 </div><div class=\"ball_tx ball_yellow\">37 </div><div class=\"ball_tx ball_yellow\">04 </div><div class=\"ball_tx ball_yellow\">25 </div><div class=\"ball_tx ball_yellow\">01 </div><div class=\"ball_tx ball_yellow\">04 </div><div class=\"ball_tx ball_yellow\">12 </div><div class=\"ball_tx ball_yellow\">25 </div><div class=\"ball_tx ball_yellow\">34 </div><div class=\"ball_tx ball_yellow\">37 </div><div class=\"ball_red\">42 </div>\n",
      "</div>\n",
      "<div class=\"contents_box02\">\n",
      "<div id=\"contents_logo_05\"></div><div class=\"contents_mine_tx02\"><span class=\"font_black15\">109/3/10 第109000028期 </span><span class=\"font_red14\"><a href=\"Result_all.aspx#08\">開獎結果</a></span></div><div class=\"contents_mine_tx04\">開出順序<br/>大小順序</div><div class=\"ball_tx ball_yellow\">01 </div><div class=\"ball_tx ball_yellow\">12 </div><div class=\"ball_tx ball_yellow\">34 </div><div class=\"ball_tx ball_yellow\">37 </div><div class=\"ball_tx ball_yellow\">04 </div><div class=\"ball_tx ball_yellow\">25 </div><div class=\"ball_tx ball_yellow\">01 </div><div class=\"ball_tx ball_yellow\">04 </div><div class=\"ball_tx ball_yellow\">12 </div><div class=\"ball_tx ball_yellow\">25 </div><div class=\"ball_tx ball_yellow\">34 </div><div class=\"ball_tx ball_yellow\">37 </div>\n",
      "</div>\n"
     ]
    }
   ],
   "source": [
    "import  bs4,requests\n",
    "\n",
    "url = 'https://www.taiwanlottery.com.tw/'\n",
    "html = requests.get(url)\n",
    "\n",
    "html.raise_for_status()\n",
    "\n",
    "objSoup = bs4.BeautifulSoup(html.text,'html.parser')\n",
    "\n",
    "#透過 select() 去選出.content_box02\n",
    "\n",
    "dataTag = objSoup.select('.contents_box02')\n",
    "print(\"串列長度\",len(dataTag))\n",
    "for i in range(len(dataTag)):\n",
    "    print(dataTag[i])"
   ]
  },
  {
   "cell_type": "code",
   "execution_count": 22,
   "metadata": {},
   "outputs": [
    {
     "name": "stdout",
     "output_type": "stream",
     "text": [
      "開出順序 : 27  18  30  19  22  35  "
     ]
    }
   ],
   "source": [
    "balls  = dataTag[0].find_all('div',{'class':'ball_tx ball_green'})\n",
    "print(\"開出順序 : \",end=\"\")\n",
    "for i in range(6):\n",
    "    print(balls[i].text, end = ' ')"
   ]
  },
  {
   "cell_type": "code",
   "execution_count": 23,
   "metadata": {},
   "outputs": [
    {
     "name": "stdout",
     "output_type": "stream",
     "text": [
      "開出順序 : 01  12  34  37  04  25  "
     ]
    }
   ],
   "source": [
    "balls  = dataTag[2].find_all('div',{'class':'ball_tx ball_yellow'})\n",
    "print(\"開出順序 : \",end=\"\")\n",
    "for i in range(6):\n",
    "    print(balls[i].text, end = ' ')"
   ]
  },
  {
   "cell_type": "code",
   "execution_count": 26,
   "metadata": {},
   "outputs": [
    {
     "name": "stdout",
     "output_type": "stream",
     "text": [
      "\n",
      "大小順序:  01  04  12  25  34  37  "
     ]
    }
   ],
   "source": [
    "print(\"\\n大小順序: \",end=' ')\n",
    "for i in range(6,len(balls)):\n",
    "    print(balls[i].text, end= ' ')"
   ]
  },
  {
   "cell_type": "code",
   "execution_count": 32,
   "metadata": {},
   "outputs": [
    {
     "name": "stdout",
     "output_type": "stream",
     "text": [
      "第二區:  01 \n"
     ]
    }
   ],
   "source": [
    "#找出第二區紅球\n",
    "redball = dataTag[0].find_all('div',{'class':'ball_red'})\n",
    "print('\\n第二區 : ',redball[0].text)"
   ]
  },
  {
   "cell_type": "code",
   "execution_count": 36,
   "metadata": {},
   "outputs": [
    {
     "name": "stdout",
     "output_type": "stream",
     "text": [
      "一月\n",
      "二月\n",
      "三月\n",
      "四月\n",
      "五月\n"
     ]
    }
   ],
   "source": [
    "from urllib.request import urlopen\n",
    "from bs4 import BeautifulSoup\n",
    "html = urlopen('https://morvanzhou.github.io/static/scraping/list.html').read().decode('utf-8')\n",
    "soup = BeautifulSoup(html,'html.parser')\n",
    "#month = soup.find_all('li',{'class':'month'})\n",
    "month = soup.find_all('li', class_=\"month\")\n",
    "for i in month:\n",
    "    print(i.get_text())"
   ]
  },
  {
   "cell_type": "code",
   "execution_count": null,
   "metadata": {},
   "outputs": [],
   "source": []
  }
 ],
 "metadata": {
  "kernelspec": {
   "display_name": "Python 3",
   "language": "python",
   "name": "python3"
  },
  "language_info": {
   "codemirror_mode": {
    "name": "ipython",
    "version": 3
   },
   "file_extension": ".py",
   "mimetype": "text/x-python",
   "name": "python",
   "nbconvert_exporter": "python",
   "pygments_lexer": "ipython3",
   "version": "3.7.0"
  }
 },
 "nbformat": 4,
 "nbformat_minor": 2
}
