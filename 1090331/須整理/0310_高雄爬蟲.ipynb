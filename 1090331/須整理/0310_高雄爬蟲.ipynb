{
 "cells": [
  {
   "cell_type": "markdown",
   "metadata": {},
   "source": [
    "## CSS介紹\n",
    "Class selectors（Class選取器）\n",
    "「.」開頭，名稱可自訂，一張網頁可有多個class屬性值。\n",
    "\n",
    "CSS .emText { color:red;} HTML\n",
    "\n",
    "此段會套用紅色\n",
    "\n",
    "ID selectors（ID選取器）\n",
    "「#」開頭，名稱可自訂，一張網頁只能有一個ID屬性值。 CSS\n",
    "\n",
    "#emText { color:red;} HTML\n",
    "\n",
    "此段會套用紅色\n",
    "\n",
    "Type selectors（型態選取器）\n",
    "設定於HTML的標籤上，網頁上所有的標籤都會套用。 CSS h1 {color:red;} p {color:black;} HTML\n",
    "\n",
    "標題會套用紅色\n",
    "< p> 段落會套用黑色\n",
    "Universal selector（通用選取器）\n",
    "使用字元「*」，整張網頁下的所有元素都會套用設定。 CSS\n",
    "\n",
    "{color:red;} HTML\n",
    "標題會套用紅色\n",
    "< p> 段落會套用紅色\n",
    "Descendant combinator（後代選取器）\n",
    "E F，利用空白鍵區隔兩個元素，表示在 E 元素內的 F 元素才會套用。 CSS a { color:black;} h1 a { color:red;}\n",
    "\n",
    "#wrapper a { color:green;} HTML 只設定a標籤會套用黑色\n",
    "\n",
    "< h1> < a>在h1裡的a標籤會套用紅色 < /h1>\n",
    "\n",
    "< div id=\"wrapper\"> < a>在ID=wrapper裡的a標籤會套用綠色 < /div>\n",
    "\n",
    "Groups of selectors（群組選取器）\n",
    "您還可以用「,」逗點區隔，同時對多個選取器定義樣式。 E, F, G，同時針對E、F、G元素設定樣式。 CSS h1, h2, p {color:red;} HTML\n",
    "\n",
    "群組內的元素都套用紅色\n",
    "< h2>群組內的元素都套用紅色 < p>群組內的元素都套用紅色 < a>群組沒定義的元素不會變色"
   ]
  },
  {
   "cell_type": "code",
   "execution_count": null,
   "metadata": {},
   "outputs": [],
   "source": [
    "HTML\n",
    "文件宣告\n",
    "\n",
    "<HTML></HTML>\n",
    "\n",
    "內容宣告區\n",
    "\n",
    "<HEAD></HEAD>\n",
    "\n",
    "文件主體\n",
    "\n",
    "<BODY ></BODY>\n",
    "\n",
    "網站標題\n",
    "\n",
    "<TITLE></TITLE>\n",
    "\n",
    "跳列\n",
    "\n",
    "<BR>\n",
    "\n",
    "跳段的設定\n",
    "\n",
    "<P>\n",
    "清單\n",
    "\n",
    "無序號目錄清單\n",
    "\n",
    "<MENU>\n",
    "\n",
    "<LI>項目標題\n",
    "\n",
    "…\n",
    "\n",
    "</MENU>\n",
    "\n",
    "有序號目錄清單\n",
    "\n",
    "<OL>\n",
    "\n",
    "<LI>項目標題\n",
    "\n",
    "…\n",
    "\n",
    "</OL>\n",
    "表格\n",
    "\n",
    "<TABLE></TABLE>\n",
    "\n",
    "宣告列\n",
    "\n",
    "<TR></TR>\n",
    "\n",
    "標題、資料欄宣告\n",
    "\n",
    "<TH></TH>、<TD></TD>\n",
    "\n",
    "超鏈結\n",
    "\n",
    "<A HREF=URL>...</A>\n"
   ]
  },
  {
   "cell_type": "code",
   "execution_count": null,
   "metadata": {},
   "outputs": [],
   "source": [
    "# web scraper\n",
    "import requests\n",
    "import webbrowser\n",
    "\n",
    "address = input(\"請輸入地址 : \")\n",
    "webbrowser.open('http://www.google.com.tw/maps/search/' + address)"
   ]
  },
  {
   "cell_type": "code",
   "execution_count": 7,
   "metadata": {},
   "outputs": [
    {
     "name": "stdout",
     "output_type": "stream",
     "text": [
      "<Response [200]>\n",
      "200\n",
      "OK\n",
      "<!doctype html><html itemscope=\"\" itemtype=\"http://schema.org/WebPage\" lang=\"zh-TW\"><head><meta content=\"text/html; charset=UTF-8\" http-equiv=\"Content-Type\"><meta content=\"/images/branding/googleg/1x/googleg_standard_color_128dp.png\" itemprop=\"image\"><title>Google</title><script nonce=\"+wxWTjp9BckUGw7Ti+kIFQ==\">(function(){window.google={kEI:'HYJnXoL1EsStoASL6pHYBg',kEXPI:'0,18168,183931,1151647,5663,731,223,3657,1447,207,2414,790,10,1051,175,364,1435,4,60,742,43,32,383,139,2,105,5,1014,89,250,83,149,286,37,213,15,31,1126953,1197744,280,125,41,329077,1294,12383,4855,32691,15248,867,28684,364,8824,8384,4859,1361,4323,4967,3030,2814,1924,3121,7912,1808,4998,7931,5297,1837,217,920,2090,9405,7432,3874,2884,16,321,1982,2317,1,220,2775,520,400,261,2015,10,83,2711,1593,423,856,390,1822,202,328,149,1103,840,124,393,1466,8,50,818,3438,312,1137,2,2669,1839,184,1777,520,1947,747,429,1043,1,102,328,1284,16,2927,1425,822,473,1339,748,1039,3227,773,1216,856,7,1320,4279,2034,6513,2663,641,537,1912,2459,1226,1462,280,3654,1275,108,2855,71,481,908,2,940,553,2062,1883,514,2896,2523,226,402,593,1670,185,2,293,1767,188,3,346,200,30,156,814,183,388,40,134,120,1197,471,201,16,1588,445,277,158,2,269,149,3501,1703,786,229,158,89,381,2,116,2,55,925,22,273,120,39,49,387,100,500,1211,50,142,28,896,420,47,83,2998,337,144,35,47,643,4,556,733,154,663,354,336,288,586,195,5837895,1874,1804020,4194968,2799731,1323,549,333,444,1,2,80,1,900,896,1,8,1,2,2551,1,748,141,59,736,563,1,4265,1,1,1,1,137,1,879,9,305,641,5,76,20,3,1,184,3,44,4,5,20743398,3220019,25',kBL:'ED6e'};google.sn='webhp';google.kHL='zh-TW';})();(function(){google.lc=[];google.li=0;google.getEI=function(a){for(var b;a&&(!a.getAttribute||!(b=a.getAttribute(\"eid\")));)a=a.parentNode;return b||google.kEI};google.getLEI=function(a){for(var b=null;a&&(!a.getAttribute||!(b=a.getAttribute(\"leid\")));)a=a.parentNode;return b};google.ml=function(){return null};google.time=function(){return Date.now()};google.log=function(a,b,e,c,g){if(a=google.logUrl(a,b,e,c,g)){b=new Image;var d=google.lc,f=google.li;d[f]=b;b.onerror=b.onload=b.onabort=function(){delete d[f]};google.vel&&google.vel.lu&&google.vel.lu(a);b.src=a;google.li=f+1}};google.logUrl=function(a,b,e,c,g){var d=\"\",f=google.ls||\"\";e||-1!=b.search(\"&ei=\")||(d=\"&ei=\"+google.getEI(c),-1==b.search(\"&lei=\")&&(c=google.getLEI(c))&&(d+=\"&lei=\"+c));c=\"\";!e&&google.cshid&&-1==b.search(\"&cshid=\")&&\"slh\"!=a&&(c=\"&cshid=\"+google.cshid);a=e||\"/\"+(g||\"gen_204\")+\"?atyp=i&ct=\"+a+\"&cad=\"+b+d+f+\"&zx=\"+google.time()+c;/^http:/i.test(a)&&\"https:\"==window.location.protocol&&(google.ml(Error(\"a\"),!1,{src:a,glmm:1}),a=\"\");return a};}).call(this);(function(){google.y={};google.x=function(a,b){if(a)var c=a.id;else{do c=Math.random();while(google.y[c])}google.y[c]=[a,b];return!1};google.lm=[];google.plm=function(a){google.lm.push.apply(google.lm,a)};google.lq=[];google.load=function(a,b,c){google.lq.push([[a],b,c])};google.loadAll=function(a,b){google.lq.push([a,b])};}).call(this);google.f={};(function(){\n",
      "document.documentElement.addEventListener(\"submit\",function(b){var a;if(a=b.target){var c=a.getAttribute(\"data-submitfalse\");a=\"1\"==c||\"q\"==c&&!a.elements.q.value?!0:!1}else a=!1;a&&(b.preventDefault(),b.stopPropagation())},!0);document.documentElement.addEventListener(\"click\",function(b){var a;a:{for(a=b.target;a&&a!=document.documentElement;a=a.parentElement)if(\"A\"==a.tagName){a=\"1\"==a.getAttribute(\"data-nohref\");break a}a=!1}a&&b.preventDefault()},!0);}).call(this);\n",
      "var a=window.location,b=a.href.indexOf(\"#\");if(0<=b){var c=a.href.substring(b+1);/(^|&)q=/.test(c)&&-1==c.indexOf(\"#\")&&a.replace(\"/search?\"+c.replace(/(^|&)fp=[^&]*/g,\"\")+\"&cad=h\")};</script><style>#gbar,#guser{font-size:13px;padding-top:1px !important;}#gbar{height:22px}#guser{padding-bottom:7px !important;text-align:right}.gbh,.gbd{border-top:1px solid #c9d7f1;font-size:1px}.gbh{height:0;position:absolute;top:24px;width:100%}@media all{.gb1{height:22px;margin-right:.5em;vertical-align:top}#gbar{float:left}}a.gb1,a.gb4{text-decoration:underline !important}a.gb1,a.gb4{color:#00c !important}.gbi .gb4{color:#dd8e27 !important}.gbf .gb4{color:#900 !important}\n",
      "</style><style>body,td,a,p,.h{font-family:arial,sans-serif}body{margin:0;overflow-y:scroll}#gog{padding:3px 8px 0}td{line-height:.8em}.gac_m td{line-height:17px}form{margin-bottom:20px}.h{color:#36c}.q{color:#00c}.ts td{padding:0}.ts{border-collapse:collapse}em{color:#c03;font-style:normal;font-weight:normal}a em{text-decoration:underline}.lst{height:25px;width:496px}.gsfi,.lst{font:18px arial,sans-serif}.gsfs{font:17px arial,sans-serif}.ds{display:inline-box;display:inline-block;margin:3px 0 4px;margin-left:4px}input{font-family:inherit}body{background:#fff;color:#000}a{color:#11c;text-decoration:none}a:hover,a:active{text-decoration:underline}.fl a{color:#36c}a:visited{color:#551a8b}.sblc{padding-top:5px}.sblc a{display:block;margin:2px 0;margin-left:13px;font-size:11px}.lsbb{background:#eee;border:solid 1px;border-color:#ccc #999 #999 #ccc;height:30px}.lsbb{display:block}.ftl,#fll a{display:inline-block;margin:0 12px}.lsb{background:url(/images/nav_logo229.png) 0 -261px repeat-x;border:none;color:#000;cursor:pointer;height:30px;margin:0;outline:0;font:15px arial,sans-serif;vertical-align:top}.lsb:active{background:#ccc}.lst:focus{outline:none}</style><script nonce=\"+wxWTjp9BckUGw7Ti+kIFQ==\"></script></head><body bgcolor=\"#fff\"><script nonce=\"+wxWTjp9BckUGw7Ti+kIFQ==\">(function(){var src='/images/nav_logo229.png';var iesg=false;document.body.onload = function(){window.n && window.n();if (document.images){new Image().src=src;}\n",
      "if (!iesg){document.f&&document.f.q.focus();document.gbqf&&document.gbqf.q.focus();}\n",
      "}\n",
      "})();</script><div id=\"mngb\"> <div id=gbar><nobr><b class=gb1>搜尋</b> <a class=gb1 href=\"https://www.google.com.tw/imghp?hl=zh-TW&tab=wi\">圖片</a> <a class=gb1 href=\"https://maps.google.com.tw/maps?hl=zh-TW&tab=wl\">地圖</a> <a class=gb1 href=\"https://play.google.com/?hl=zh-TW&tab=w8\">Play</a> <a class=gb1 href=\"https://www.youtube.com/?gl=TW&tab=w1\">YouTube</a> <a class=gb1 href=\"https://news.google.com.tw/nwshp?hl=zh-TW&tab=wn\">新聞</a> <a class=gb1 href=\"https://mail.google.com/mail/?tab=wm\">Gmail</a> <a class=gb1 href=\"https://drive.google.com/?tab=wo\">雲端硬碟</a> <a class=gb1 style=\"text-decoration:none\" href=\"https://www.google.com.tw/intl/zh-TW/about/products?tab=wh\"><u>更多</u> &raquo;</a></nobr></div><div id=guser width=100%><nobr><span id=gbn class=gbi></span><span id=gbf class=gbf></span><span id=gbe></span><a href=\"http://www.google.com.tw/history/optout?hl=zh-TW\" class=gb4>網頁記錄</a> | <a  href=\"/preferences?hl=zh-TW\" class=gb4>設定</a> | <a target=_top id=gb_70 href=\"https://accounts.google.com/ServiceLogin?hl=zh-TW&passive=true&continue=https://www.google.com.tw/\" class=gb4>登入</a></nobr></div><div class=gbh style=left:0></div><div class=gbh style=right:0></div> </div><center><br clear=\"all\" id=\"lgpd\"><div id=\"lga\"><img alt=\"Google\" height=\"92\" src=\"/images/branding/googlelogo/1x/googlelogo_white_background_color_272x92dp.png\" style=\"padding:28px 0 14px\" width=\"272\" id=\"hplogo\"><br><br></div><form action=\"/search\" name=\"f\"><table cellpadding=\"0\" cellspacing=\"0\"><tr valign=\"top\"><td width=\"25%\">&nbsp;</td><td align=\"center\" nowrap=\"\"><input name=\"ie\" value=\"Big5\" type=\"hidden\"><input value=\"zh-TW\" name=\"hl\" type=\"hidden\"><input name=\"source\" type=\"hidden\" value=\"hp\"><input name=\"biw\" type=\"hidden\"><input name=\"bih\" type=\"hidden\"><div class=\"ds\" style=\"height:32px;margin:4px 0\"><input class=\"lst\" style=\"margin:0;padding:5px 8px 0 6px;vertical-align:top;color:#000\" autocomplete=\"off\" value=\"\" title=\"Google 搜尋\" maxlength=\"2048\" name=\"q\" size=\"57\"></div><br style=\"line-height:0\"><span class=\"ds\"><span class=\"lsbb\"><input class=\"lsb\" value=\"Google 搜尋\" name=\"btnG\" type=\"submit\"></span></span><span class=\"ds\"><span class=\"lsbb\"><input class=\"lsb\" id=\"tsuid1\" value=\"好手氣\" name=\"btnI\" type=\"submit\"><script nonce=\"+wxWTjp9BckUGw7Ti+kIFQ==\">(function(){var id='tsuid1';document.getElementById(id).onclick = function(){if (this.form.q.value){this.checked = 1;if (this.form.iflsig)this.form.iflsig.disabled = false;}\n",
      "else top.location='/doodles/';};})();</script><input value=\"AINFCbYAAAAAXmeQLcqWwqBMBILFkhoUys3p5xKgCfXK\" name=\"iflsig\" type=\"hidden\"></span></span></td><td class=\"fl sblc\" align=\"left\" nowrap=\"\" width=\"25%\"><a href=\"/advanced_search?hl=zh-TW&amp;authuser=0\">進階搜尋</a></td></tr></table><input id=\"gbv\" name=\"gbv\" type=\"hidden\" value=\"1\"><script nonce=\"+wxWTjp9BckUGw7Ti+kIFQ==\">(function(){var a,b=\"1\";if(document&&document.getElementById)if(\"undefined\"!=typeof XMLHttpRequest)b=\"2\";else if(\"undefined\"!=typeof ActiveXObject){var c,d,e=[\"MSXML2.XMLHTTP.6.0\",\"MSXML2.XMLHTTP.3.0\",\"MSXML2.XMLHTTP\",\"Microsoft.XMLHTTP\"];for(c=0;d=e[c++];)try{new ActiveXObject(d),b=\"2\"}catch(h){}}a=b;if(\"2\"==a&&-1==location.search.indexOf(\"&gbv=2\")){var f=google.gbvu,g=document.getElementById(\"gbv\");g&&(g.value=a);f&&window.setTimeout(function(){location.href=f},0)};}).call(this);</script></form><div id=\"gac_scont\"></div><div style=\"font-size:83%;min-height:3.5em\"><br></div><span id=\"footer\"><div style=\"font-size:10pt\"><div style=\"margin:19px auto;text-align:center\" id=\"fll\"><a href=\"/intl/zh-TW/ads/\">廣告服務</a><a href=\"http://www.google.com.tw/intl/zh-TW/services/\">商業解決方案</a><a href=\"/intl/zh-TW/about.html\">Google 完全手冊</a><a href=\"https://www.google.com.tw/setprefdomain?prefdom=US&amp;sig=K_yrwyyBzuShKcOTjGGRktUvmBnVg%3D\" id=\"fehl\">Google.com</a></div></div><p style=\"font-size:8pt;color:#767676\">&copy; 2020 - <a href=\"/intl/zh-TW/policies/privacy/\">隱私權</a> - <a href=\"/intl/zh-TW/policies/terms/\">服務條款</a></p></span></center><script nonce=\"+wxWTjp9BckUGw7Ti+kIFQ==\">(function(){window.google.cdo={height:0,width:0};(function(){var a=window.innerWidth,b=window.innerHeight;if(!a||!b){var c=window.document,d=\"CSS1Compat\"==c.compatMode?c.documentElement:c.body;a=d.clientWidth;b=d.clientHeight}a&&b&&(a!=google.cdo.width||b!=google.cdo.height)&&google.log(\"\",\"\",\"/client_204?&atyp=i&biw=\"+a+\"&bih=\"+b+\"&ei=\"+google.kEI);}).call(this);})();(function(){var u='/xjs/_/js/k\\x3dxjs.hp.en.0EuLPigu6zs.O/m\\x3dsb_he,d/am\\x3dgAEBNgI/d\\x3d1/rs\\x3dACT90oHVjWcAH6SUvaGkbnvcPU9bG2loWA';\n",
      "setTimeout(function(){var b=document;var a=\"SCRIPT\";\"application/xhtml+xml\"===b.contentType&&(a=a.toLowerCase());a=b.createElement(a);a.src=u;google.timers&&google.timers.load&&google.tick&&google.tick(\"load\",\"xjsls\");document.body.appendChild(a)},0);})();(function(){window.google.xjsu='/xjs/_/js/k\\x3dxjs.hp.en.0EuLPigu6zs.O/m\\x3dsb_he,d/am\\x3dgAEBNgI/d\\x3d1/rs\\x3dACT90oHVjWcAH6SUvaGkbnvcPU9bG2loWA';})();function _DumpException(e){throw e;}\n",
      "function _F_installCss(c){}\n",
      "(function(){google.spjs=false;google.snet=true;google.em=[];google.emw=false;google.pdt=0;})();(function(){var pmc='{\\x22d\\x22:{},\\x22sb_he\\x22:{\\x22agen\\x22:true,\\x22cgen\\x22:true,\\x22client\\x22:\\x22heirloom-hp\\x22,\\x22dh\\x22:true,\\x22dhqt\\x22:true,\\x22ds\\x22:\\x22\\x22,\\x22ffql\\x22:\\x22zh-TW\\x22,\\x22fl\\x22:true,\\x22host\\x22:\\x22google.com.tw\\x22,\\x22isbh\\x22:28,\\x22jsonp\\x22:true,\\x22msgs\\x22:{\\x22cibl\\x22:\\x22清除搜尋\\x22,\\x22dym\\x22:\\x22您是不是要查：\\x22,\\x22lcky\\x22:\\x22好手氣\\x22,\\x22lml\\x22:\\x22瞭解詳情\\x22,\\x22oskt\\x22:\\x22輸入工具\\x22,\\x22psrc\\x22:\\x22已從您的「\\\\u003Ca href\\x3d\\\\\\x22/history\\\\\\x22\\\\u003E網頁記錄\\\\u003C/a\\\\u003E」中移除這筆搜尋記錄\\x22,\\x22psrl\\x22:\\x22移除\\x22,\\x22sbit\\x22:\\x22以圖搜尋\\x22,\\x22srch\\x22:\\x22Google 搜尋\\x22},\\x22ovr\\x22:{},\\x22pq\\x22:\\x22\\x22,\\x22refpd\\x22:true,\\x22refspre\\x22:true,\\x22rfs\\x22:[],\\x22sbpl\\x22:16,\\x22sbpr\\x22:16,\\x22scd\\x22:10,\\x22stok\\x22:\\x22yJlltdMdWCv8XrZBjJ183MXYYI0\\x22,\\x22uhde\\x22:false}}';google.pmc=JSON.parse(pmc);})();</script>        </body></html>\n"
     ]
    }
   ],
   "source": [
    "# GET 請求\n",
    "# 普通單純的網頁，只需要用最簡單的 GET 請求即可直接下載，以下是一個簡單的範例：\n",
    "\n",
    "# 引入 requests 模組\n",
    "import requests\n",
    "\n",
    "# 使用 GET 方式下載普通網頁\n",
    "r = requests.get('https://www.google.com.tw/')\n",
    "print(r)\n",
    "# 這裡我們以 GET 下載 Google 的網頁後，將結果儲存於 r 這個變數中，首先確認一下從伺服器傳回的狀態碼：\n",
    "\n",
    "# 伺服器回應的狀態碼\n",
    "print(r.status_code)\n",
    "\n",
    "# 如果顯示 200 就代表沒問題。我們也可以利用以下這個判斷式來檢查狀態碼：\n",
    "\n",
    "# 檢查狀態碼是否 OK\n",
    "if r.status_code == requests.codes.ok:\n",
    "  print(\"OK\")\n",
    "\n",
    "# 輸出網頁 HTML 原始碼\n",
    "print(r.text)"
   ]
  },
  {
   "cell_type": "code",
   "execution_count": 8,
   "metadata": {},
   "outputs": [
    {
     "name": "stdout",
     "output_type": "stream",
     "text": [
      "<class 'requests.models.Response'>\n"
     ]
    }
   ],
   "source": [
    "# 下載網頁使用requests.get()方法\n",
    "url = 'http://www.grandtech.info'\n",
    "htmlfile = requests.get(url)\n",
    "print(type(htmlfile))#可以知道傳回的資料型態是Response物件"
   ]
  },
  {
   "cell_type": "code",
   "execution_count": 10,
   "metadata": {},
   "outputs": [
    {
     "name": "stdout",
     "output_type": "stream",
     "text": [
      "取得網頁內容成功\n"
     ]
    }
   ],
   "source": [
    "# 認識Response物件\n",
    "# status_code如果值是requests.codes.ok表示獲得網頁內容成功\n",
    "# text : 網頁內容\n",
    "url = 'http://www.grandtech.info'\n",
    "htmlfile = requests.get(url)\n",
    "if htmlfile.status_code == requests.codes.ok:\n",
    "    print(\"取得網頁內容成功\")\n",
    "else:\n",
    "    print(\"取得網頁內容失敗\")\n"
   ]
  },
  {
   "cell_type": "code",
   "execution_count": 12,
   "metadata": {},
   "outputs": [
    {
     "name": "stdout",
     "output_type": "stream",
     "text": [
      "\n",
      "get\n"
     ]
    },
    {
     "data": {
      "text/plain": [
       "True"
      ]
     },
     "execution_count": 12,
     "metadata": {},
     "output_type": "execute_result"
    }
   ],
   "source": [
    "print('\\nget')\n",
    "# param = {\"wd\": \"yahoo購物\"}#搜索的信息 \"s?wd=网络爬虫\"就是我们搜索需要的关键信息\n",
    "# r = requests.get('https://www.baidu.com/s', params=param)\n",
    "# param = {\"q\": \"yahoo購物\"}\n",
    "# r = requests.get('https://www.google.com.tw/search', params=param)\n",
    "param = {\"q\": \"yahoo購物\"}\n",
    "r = requests.get('https://www.google.com.tw/search', params=param)\n",
    "webbrowser.open(r.url)#自動幫你開啟網站"
   ]
  },
  {
   "cell_type": "code",
   "execution_count": 20,
   "metadata": {},
   "outputs": [
    {
     "name": "stdout",
     "output_type": "stream",
     "text": [
      "<class 'bs4.BeautifulSoup'>\n",
      "An Interesting Title\n"
     ]
    },
    {
     "data": {
      "text/plain": [
       "<h1>An Interesting Title</h1>"
      ]
     },
     "execution_count": 20,
     "metadata": {},
     "output_type": "execute_result"
    }
   ],
   "source": [
    "from urllib.request import urlopen\n",
    "from bs4 import BeautifulSoup\n",
    "html = urlopen(\"http://www.pythonscraping.com/pages/page1.html\")\n",
    "bsObj = BeautifulSoup(html)\n",
    "print(type(bsObj))\n",
    "print(bsObj.h1.text)\n",
    "bsObj.h1"
   ]
  },
  {
   "cell_type": "code",
   "execution_count": null,
   "metadata": {},
   "outputs": [],
   "source": []
  },
  {
   "cell_type": "code",
   "execution_count": null,
   "metadata": {},
   "outputs": [],
   "source": []
  }
 ],
 "metadata": {
  "kernelspec": {
   "display_name": "Python 3",
   "language": "python",
   "name": "python3"
  },
  "language_info": {
   "codemirror_mode": {
    "name": "ipython",
    "version": 3
   },
   "file_extension": ".py",
   "mimetype": "text/x-python",
   "name": "python",
   "nbconvert_exporter": "python",
   "pygments_lexer": "ipython3",
   "version": "3.7.0"
  }
 },
 "nbformat": 4,
 "nbformat_minor": 4
}
