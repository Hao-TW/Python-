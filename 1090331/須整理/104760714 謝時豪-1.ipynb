{
 "cells": [
  {
   "cell_type": "code",
   "execution_count": 2,
   "metadata": {},
   "outputs": [
    {
     "name": "stdout",
     "output_type": "stream",
     "text": [
      "下載成功\n",
      "10240\n",
      "10240\n",
      "10240\n",
      "10240\n",
      "10240\n",
      "10240\n",
      "1496\n",
      "以原價屋.txt 網頁儲存成功\n"
     ]
    }
   ],
   "source": [
    "import requests\n",
    "url='https://www.coolpc.com.tw/phpBB2/portal.php'\n",
    "try:\n",
    "    htmlfile = requests.get(url)\n",
    "    print('下載成功')\n",
    "except Excetion as error:\n",
    "    print(\"網頁原始碼下載失敗: %s\" % Error)\n",
    "    \n",
    "#儲存檢視的內容\n",
    "fn = '原價屋.txt'\n",
    "with open(fn,'wb') as file_Obj:\n",
    "    for diskStorage in htmlfile.iter_content(10240):\n",
    "        size = file_Obj.write(diskStorage)\n",
    "        print(size)\n",
    "    print(\"以%s 網頁儲存成功\" % fn)"
   ]
  },
  {
   "cell_type": "code",
   "execution_count": null,
   "metadata": {},
   "outputs": [],
   "source": []
  }
 ],
 "metadata": {
  "kernelspec": {
   "display_name": "Python 3",
   "language": "python",
   "name": "python3"
  },
  "language_info": {
   "codemirror_mode": {
    "name": "ipython",
    "version": 3
   },
   "file_extension": ".py",
   "mimetype": "text/x-python",
   "name": "python",
   "nbconvert_exporter": "python",
   "pygments_lexer": "ipython3",
   "version": "3.7.0"
  }
 },
 "nbformat": 4,
 "nbformat_minor": 2
}
