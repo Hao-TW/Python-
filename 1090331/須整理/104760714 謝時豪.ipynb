{
 "cells": [
  {
   "cell_type": "code",
   "execution_count": 1,
   "metadata": {},
   "outputs": [
    {
     "name": "stdout",
     "output_type": "stream",
     "text": [
      "四星彩中獎號碼 : 5   7   1   0   "
     ]
    }
   ],
   "source": [
    "import bs4, requests\n",
    "\n",
    "url = 'http://www.taiwanlottery.com.tw'\n",
    "html = requests.get(url)                                         \n",
    "objSoup = bs4.BeautifulSoup(html.text, 'html.parser')      \n",
    "\n",
    "dataTag = objSoup.select('.contents_box04')  \n",
    "balls = dataTag[1].find_all('div', {'class':'ball_tx ball_purple'})\n",
    "print(\"四星彩中獎號碼 : \", end='')\n",
    "for i in range(4):                                  \n",
    "    print(balls[i].text, end='   ')"
   ]
  },
  {
   "cell_type": "code",
   "execution_count": null,
   "metadata": {},
   "outputs": [],
   "source": []
  }
 ],
 "metadata": {
  "kernelspec": {
   "display_name": "Python 3",
   "language": "python",
   "name": "python3"
  },
  "language_info": {
   "codemirror_mode": {
    "name": "ipython",
    "version": 3
   },
   "file_extension": ".py",
   "mimetype": "text/x-python",
   "name": "python",
   "nbconvert_exporter": "python",
   "pygments_lexer": "ipython3",
   "version": "3.7.0"
  }
 },
 "nbformat": 4,
 "nbformat_minor": 2
}
